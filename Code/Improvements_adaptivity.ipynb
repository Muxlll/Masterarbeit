{
 "cells": [
  {
   "attachments": {},
   "cell_type": "markdown",
   "metadata": {},
   "source": [
    "### Numerical Experiments\n",
    "\n",
    "First experiment: adaptivity of the sparse grid is tested"
   ]
  },
  {
   "cell_type": "code",
   "execution_count": 5,
   "metadata": {},
   "outputs": [],
   "source": [
    "import openml\n",
    "\n",
    "from openml import tasks\n",
    "\n",
    "import HPO\n",
    "\n",
    "import pysgpp\n",
    "\n",
    "import sys\n",
    "\n",
    "import math\n",
    "import matplotlib.pyplot as plt\n",
    "import torch\n",
    "import torch.nn as nn\n",
    "import torch.nn.functional as F\n",
    "import torch.optim as optim\n",
    "\n",
    "import sklearn.metrics\n",
    "\n",
    "from sklearn.model_selection import cross_val_score\n",
    "\n",
    "import numpy as np\n",
    "import keras\n",
    "from keras import backend as K\n",
    "\n",
    "from tensorflow.keras.models import Sequential\n",
    "from tensorflow.keras.layers import Dense, BatchNormalization\n",
    "from scikeras.wrappers import KerasRegressor, KerasClassifier\n",
    "\n",
    "\n",
    "BUDGET = 30\n",
    "VERBOSE = 1\n",
    "CV = [(slice(None), slice(None))]\n",
    "SCORING = 'neg_mean_squared_error'\n",
    "TESTING = False\n",
    "\n",
    "DATASETS = []\n"
   ]
  },
  {
   "attachments": {},
   "cell_type": "markdown",
   "metadata": {},
   "source": [
    "### Hyperparameter space definition"
   ]
  },
  {
   "cell_type": "code",
   "execution_count": 6,
   "metadata": {},
   "outputs": [],
   "source": [
    "ADAPTIVITIES = [0.75, 0.85, 0.9, 0.95, 1]\n",
    "\n",
    "hyperparameterspace = {\n",
    "    'epochs': [\"interval-int\", 1, 30],\n",
    "    'batch_size': [\"interval-int\", 10, 200],\n",
    "    'optimizer__learning_rate': [\"interval-log\", 0.0000001, 0.01],\n",
    "    'model__neurons_per_layer': [\"interval-int\", 1, 100],\n",
    "    'model__number_of_layers': [\"interval-int\", 1, 10],\n",
    "}\n",
    "\n",
    "hyperparameterspace_special = {}\n",
    "for key in hyperparameterspace.keys():\n",
    "    liste = []\n",
    "    for i in range(1, len(hyperparameterspace[key])):\n",
    "        liste.append(hyperparameterspace[key][i])\n",
    "    hyperparameterspace_special[key] = liste"
   ]
  },
  {
   "cell_type": "code",
   "execution_count": 7,
   "metadata": {},
   "outputs": [
    {
     "name": "stdout",
     "output_type": "stream",
     "text": [
      "Current adaptivity: 0.75\n",
      "Adaptive grid generation (Ritter-Novak)...\n"
     ]
    },
    {
     "ename": "",
     "evalue": "",
     "output_type": "error",
     "traceback": [
      "\u001b[1;31mCanceled future for execute_request message before replies were done"
     ]
    },
    {
     "ename": "",
     "evalue": "",
     "output_type": "error",
     "traceback": [
      "\u001b[1;31mThe Kernel crashed while executing code in the the current cell or a previous cell. Please review the code in the cell(s) to identify a possible cause of the failure. Click <a href='https://aka.ms/vscodeJupyterKernelCrash'>here</a> for more info. View Jupyter <a href='command:jupyter.viewOutput'>log</a> for further details."
     ]
    }
   ],
   "source": [
    "ids = [233214, 233211, 359935, 359952, 359940]#, 359931, 317614, 359949, 359934, 359946, 359938, 359932, 359943]\n",
    "\n",
    "def relu_advanced(x):\n",
    "    return K.relu(x)\n",
    "\n",
    "ACTIVATION_FUNCTION = relu_advanced\n",
    "\n",
    "RESULTS_datasets = [[] for _ in range(len(ids))]\n",
    "\n",
    "valid_datasets = 0\n",
    "for i in range(len(ids)):\n",
    "\n",
    "    dataset = HPO.Dataset(task_id=ids[i])\n",
    "\n",
    "    class ExampleFunction(pysgpp.ScalarFunction):\n",
    "\n",
    "        def __init__(self):\n",
    "            super(ExampleFunction, self).__init__(len(hyperparameterspace.keys()))\n",
    "\n",
    "\n",
    "        def eval(self, x):\n",
    "            #index = int(x[0]*(len(hyperparameterspace_special[\"loss\"])-1))\n",
    "            loss = 'mean_squared_error'#hyperparameterspace_special[\"loss\"][index]\n",
    "            \n",
    "            epochs = int(HPO.from_standard(hyperparameterspace_special[\"epochs\"][0], hyperparameterspace_special[\"epochs\"][1], x[0]))\n",
    "\n",
    "            batch_size = int(HPO.from_standard(hyperparameterspace_special[\"batch_size\"][0], hyperparameterspace_special[\"batch_size\"][1], x[1]))\n",
    "\n",
    "            model_learning_rate = HPO.from_standard_log(hyperparameterspace_special[\"optimizer__learning_rate\"][0], hyperparameterspace_special[\"optimizer__learning_rate\"][1], x[2])\n",
    "            \n",
    "            neurons_per_layer = int(HPO.from_standard(hyperparameterspace_special[\"model__neurons_per_layer\"][0], hyperparameterspace_special[\"model__neurons_per_layer\"][1], x[3]))\n",
    "\n",
    "            number_of_layers = int(HPO.from_standard(hyperparameterspace_special[\"model__number_of_layers\"][0], hyperparameterspace_special[\"model__number_of_layers\"][1], x[4]))\n",
    "\n",
    "            # Function to create model, required for KerasClassifier\n",
    "            def create_model():\n",
    "                # create model\n",
    "                model = Sequential()\n",
    "                model.add(Dense(neurons_per_layer, input_shape=(len(dataset.get_X()[0]),), activation=ACTIVATION_FUNCTION))\n",
    "                for _ in range(number_of_layers):\n",
    "                    model.add(Dense(neurons_per_layer, activation=ACTIVATION_FUNCTION))\n",
    "                model.add(Dense(1, activation=None))\n",
    "                # Compile model\n",
    "                \n",
    "                optimizer = keras.optimizers.Adam(learning_rate=model_learning_rate)\n",
    "\n",
    "                model.compile(loss=loss, optimizer=optimizer,)\n",
    "                return model\n",
    "\n",
    "            model = KerasRegressor(model=create_model, verbose=0)\n",
    "\n",
    "            model.fit(dataset.get_X_train(), dataset.get_Y_train(), epochs=epochs, batch_size=batch_size)\n",
    "\n",
    "            if TESTING:\n",
    "                Y_predicted = model.predict(dataset.get_X_test())\n",
    "                result = sklearn.metrics.mean_squared_error(dataset.get_Y_test().tolist(), Y_predicted)\n",
    "                K.clear_session()\n",
    "                return result\n",
    "            else:\n",
    "                Y_predicted = model.predict(dataset.get_X_validation())\n",
    "                result = sklearn.metrics.mean_squared_error(dataset.get_Y_validation().tolist(), Y_predicted)\n",
    "                K.clear_session()\n",
    "                return result\n",
    "\n",
    "\n",
    "    results_temp = []\n",
    "    results_opt_temp = []\n",
    "\n",
    "    for adaptivity in ADAPTIVITIES:\n",
    "        print(\"Current adaptivity:\", adaptivity)\n",
    "\n",
    "        sparse_params=[3, adaptivity, \"gradient_descent\"]\n",
    "\n",
    "        f = ExampleFunction()\n",
    "\n",
    "        optimization = HPO.SparseGridSearchOptimization(dataset, f, hyperparameterspace, budget=BUDGET, verbosity=VERBOSE, degree=sparse_params[0], adaptivity=sparse_params[1], optimizer=sparse_params[2])\n",
    "\n",
    "        result = optimization.fit()\n",
    "\n",
    "        TESTING = True\n",
    "        results_temp.append(f.eval(result[0]))\n",
    "        results_temp.append(f.eval(result[1]))\n",
    "        TESTING = False\n",
    "\n",
    "    for m in range(len(results_temp)):\n",
    "        RESULTS_datasets[i].append(results_temp[m])\n"
   ]
  },
  {
   "attachments": {},
   "cell_type": "markdown",
   "metadata": {},
   "source": [
    "### Plotting"
   ]
  },
  {
   "cell_type": "code",
   "execution_count": null,
   "metadata": {},
   "outputs": [
    {
     "name": "stdout",
     "output_type": "stream",
     "text": [
      "[[0.8203195427954444, 0.818853497098821, 0.8545141504718555, 0.8516326041613894]]\n",
      "Task with id 233214\n"
     ]
    },
    {
     "data": {
      "image/png": "[encoded data removed]",
      "text/plain": [
       "<Figure size 640x480 with 1 Axes>"
      ]
     },
     "metadata": {},
     "output_type": "display_data"
    }
   ],
   "source": [
    "print(RESULTS_datasets)\n",
    "\n",
    "for i in range(len(ids)):\n",
    "    print(\"Task with id\", ids[i])\n",
    "\n",
    "    fig = plt.figure()\n",
    "    ax = fig.add_axes([0,0,1,1])\n",
    "\n",
    "    opts = []\n",
    "    k = 0\n",
    "    for adaptivity in ADAPTIVITIES:\n",
    "        opts.append(str(adaptivity))\n",
    "        opts.append(str(adaptivity)+\" (opt)\")\n",
    "        k += 1\n",
    "\n",
    "    ax.bar(opts, RESULTS_datasets[i])\n",
    "    # plt.ylim(0.9*min(RESULTS_datasets[i]), None)\n",
    "    plt.show()\n",
    "\n"
   ]
  }
 ],
 "metadata": {
  "kernelspec": {
   "display_name": "Python 3",
   "language": "python",
   "name": "python3"
  },
  "language_info": {
   "codemirror_mode": {
    "name": "ipython",
    "version": 3
   },
   "file_extension": ".py",
   "mimetype": "text/x-python",
   "name": "python",
   "nbconvert_exporter": "python",
   "pygments_lexer": "ipython3",
   "version": "3.10.6"
  },
  "vscode": {
   "interpreter": {
    "hash": "e7370f93d1d0cde622a1f8e1c04877d8463912d04d973331ad4851f04de6915a"
   }
  }
 },
 "nbformat": 4,
 "nbformat_minor": 2
}
