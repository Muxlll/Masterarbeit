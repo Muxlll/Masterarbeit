{
 "cells": [
  {
   "cell_type": "markdown",
   "id": "dabb667d",
   "metadata": {},
   "source": [
    "# Hyperparameteroptimization\n",
    "\n",
    "https://towardsdatascience.com/bayesian-optimization-with-python-85c66df711ec \n",
    "\n",
    "Steps:\n",
    "   1. Definition of the data\n",
    "   2. Definition of the hyperparameter space\n",
    "   3. Loop over all different combinations of the hyperparamter space\n",
    "       1. Define the model with the hyperparameters\n",
    "       2. Optimize model (learning phase)\n",
    "       3. Evaluate model and store metric with the parameters\n",
    " "
   ]
  },
  {
   "cell_type": "markdown",
   "id": "43e6368f",
   "metadata": {},
   "source": [
    "## 0. Imports & utils"
   ]
  },
  {
   "cell_type": "code",
   "execution_count": 6,
   "id": "254923fc",
   "metadata": {},
   "outputs": [],
   "source": [
    "import numpy as np\n",
    "import matplotlib.pyplot as plt\n",
    "import os\n",
    "import torch\n",
    "from sklearn import svm, metrics\n",
    "from sklearn.utils import shuffle\n",
    "\n",
    "\n",
    "import timeit\n",
    "\n",
    "import torch.nn as nn\n",
    "import torch.nn.functional as F\n",
    "import torch.optim as optim\n",
    "\n",
    "import itertools\n",
    "\n",
    "from mpl_toolkits import mplot3d\n",
    "\n",
    "\n",
    "from scipy.io import arff\n",
    "import pandas as pd\n",
    "\n",
    "%matplotlib inline\n",
    "import numpy as np\n",
    "import matplotlib.pyplot as plt\n",
    "\n",
    "import time, sys\n",
    "from IPython.display import clear_output\n",
    "\n",
    "import pysgpp\n",
    "\n",
    "from bayes_opt import BayesianOptimization, UtilityFunction\n",
    "\n",
    "\n",
    "def update_progress(progress, time, remaining_time):\n",
    "    bar_length = 20\n",
    "    if isinstance(progress, int):\n",
    "        progress = float(progress)\n",
    "    if not isinstance(progress, float):\n",
    "        progress = 0\n",
    "    if progress < 0:\n",
    "        progress = 0\n",
    "    if progress >= 1:\n",
    "        progress = 1\n",
    "\n",
    "    block = int(round(bar_length * progress))\n",
    "    clear_output(wait = True)\n",
    "    text = \"Progress: [{0}] {1:.1f}%\".format( \"#\" * block + \"-\" * (bar_length - block), progress * 100)\n",
    "    text += \"\\nCurrent time per iteration: \" + str(time)\n",
    "    text += \"\\nApprox. time remaining: \" + str(remaining_time)\n",
    "    print(text)\n",
    "\n",
    "    \n",
    "def to_standard(lower, upper, value):\n",
    "    return (value-lower)/(upper-lower)\n",
    "\n",
    "\n",
    "def from_standard(lower, upper, value):\n",
    "    return value*(upper-lower)+lower"
   ]
  },
  {
   "cell_type": "markdown",
   "id": "390510ac",
   "metadata": {},
   "source": [
    "## 1. Definition of Data"
   ]
  },
  {
   "cell_type": "code",
   "execution_count": 33,
   "id": "59d6d9fd",
   "metadata": {},
   "outputs": [
    {
     "name": "stdout",
     "output_type": "stream",
     "text": [
      "Number of samples:  748\n"
     ]
    }
   ],
   "source": [
    "SPLIT_RATIO = 0.8\n",
    "\n",
    "data = arff.loadarff('php0iVrYT.arff')\n",
    "df = pd.DataFrame(data[0])\n",
    "\n",
    "df['Class'].replace([b'1', b'2'], [1, 2], inplace=True)\n",
    "\n",
    "X = []\n",
    "Y = []\n",
    "\n",
    "for i in range(len(df)):\n",
    "    data = []\n",
    "    data.append(df['V1'][i])\n",
    "    data.append(df['V2'][i])\n",
    "    data.append(df['V3'][i])\n",
    "    data.append(df['V4'][i])\n",
    "    \n",
    "    X.append(data)\n",
    "    Y.append(df['Class'][i])\n",
    "\n",
    "print(\"Number of samples: \", len(X))\n",
    "\n",
    "X, Y = shuffle(X, Y)\n",
    "\n",
    "# 10 fold validation:\n",
    "size_chunks = int(len(X)/10)\n",
    "X_folds = [X[x:x+size_chunks] for x in range(0, len(X)-size_chunks, size_chunks)]\n",
    "Y_folds = [Y[x:x+size_chunks] for x in range(0, len(Y)-size_chunks, size_chunks)]\n",
    "\n",
    "#X_train = torch.Tensor(X[:int(len(X) * SPLIT_RATIO)])\n",
    "#X_test = torch.Tensor(X[int(len(X) * SPLIT_RATIO):])\n",
    "#Y_train = torch.Tensor(Y[:int(len(Y) * SPLIT_RATIO)])\n",
    "#Y_test = torch.Tensor(Y[int(len(Y) * SPLIT_RATIO):])\n",
    "\n",
    "#print(\"Number of training samples: \", len(X_train))\n",
    "#print(\"Number of testing samples: \", len(X_test))"
   ]
  },
  {
   "cell_type": "markdown",
   "id": "573e7eb2",
   "metadata": {},
   "source": [
    "## 2. Definition of Hyperparameter space"
   ]
  },
  {
   "cell_type": "code",
   "execution_count": 34,
   "id": "e2e13b83",
   "metadata": {},
   "outputs": [
    {
     "name": "stdout",
     "output_type": "stream",
     "text": [
      "Number of hyperparameters:  5\n"
     ]
    }
   ],
   "source": [
    "hyperparameters = {\n",
    "    \"C\" : [0, 10],\n",
    "    \"kernel\" : [1, 6], #[\"set\", \"linear\", \"poly\", \"rbf\", \"sigmoid\", \"precomputed\"],\n",
    "    \"degree\" : [1, 5],\n",
    "    \"gamma\" : [1, 3], #[\"set\", \"scale\", \"auto\"],\n",
    "    \"tol\" : [0.000001, 0.1]\n",
    "}\n",
    "\n",
    "print(\"Number of hyperparameters: \", len(hyperparameters))"
   ]
  },
  {
   "cell_type": "markdown",
   "id": "6abe03cd",
   "metadata": {},
   "source": [
    "## 3. Loop over combinations"
   ]
  },
  {
   "cell_type": "code",
   "execution_count": 35,
   "id": "380997d8",
   "metadata": {
    "scrolled": false
   },
   "outputs": [
    {
     "name": "stdout",
     "output_type": "stream",
     "text": [
      "Progress: [##------------------] 12.0%\n",
      "Current time per iteration: 0.204349486000865\n",
      "Approx. time remaining: 137.9923311697239\n"
     ]
    },
    {
     "ename": "ValueError",
     "evalue": "Precomputed matrix must be a square matrix. Input is a 9x4 matrix.",
     "output_type": "error",
     "traceback": [
      "\u001b[0;31m---------------------------------------------------------------------------\u001b[0m",
      "\u001b[0;31mValueError\u001b[0m                                Traceback (most recent call last)",
      "Cell \u001b[0;32mIn[35], line 70\u001b[0m\n\u001b[1;32m     67\u001b[0m next_point \u001b[38;5;241m=\u001b[39m optimizer\u001b[38;5;241m.\u001b[39msuggest(utility)    \u001b[38;5;66;03m# Force degree from float to int.\u001b[39;00m\n\u001b[1;32m     69\u001b[0m \u001b[38;5;66;03m# the new parameter values.\u001b[39;00m\n\u001b[0;32m---> 70\u001b[0m target \u001b[38;5;241m=\u001b[39m \u001b[43mblack_box_function\u001b[49m\u001b[43m(\u001b[49m\u001b[38;5;241;43m*\u001b[39;49m\u001b[38;5;241;43m*\u001b[39;49m\u001b[43mnext_point\u001b[49m\u001b[43m)\u001b[49m    \n\u001b[1;32m     71\u001b[0m \u001b[38;5;28;01mtry\u001b[39;00m:\n\u001b[1;32m     72\u001b[0m     \u001b[38;5;66;03m# Update the optimizer with the evaluation results. \u001b[39;00m\n\u001b[1;32m     73\u001b[0m     \u001b[38;5;66;03m# This should be in try-except to catch any errors!\u001b[39;00m\n\u001b[1;32m     74\u001b[0m     optimizer\u001b[38;5;241m.\u001b[39mregister(params \u001b[38;5;241m=\u001b[39m next_point, target \u001b[38;5;241m=\u001b[39m target)\n",
      "Cell \u001b[0;32mIn[35], line 41\u001b[0m, in \u001b[0;36mblack_box_function\u001b[0;34m(C, kernel, degree, gamma, tol)\u001b[0m\n\u001b[1;32m     38\u001b[0m         Y_train\u001b[38;5;241m.\u001b[39mappend(Y[j])\n\u001b[1;32m     40\u001b[0m classifier \u001b[38;5;241m=\u001b[39m svm\u001b[38;5;241m.\u001b[39mSVC(C\u001b[38;5;241m=\u001b[39mC, kernel\u001b[38;5;241m=\u001b[39mkernel, degree\u001b[38;5;241m=\u001b[39m\u001b[38;5;28mint\u001b[39m(degree), gamma\u001b[38;5;241m=\u001b[39mgamma, tol\u001b[38;5;241m=\u001b[39mtol)\n\u001b[0;32m---> 41\u001b[0m \u001b[43mclassifier\u001b[49m\u001b[38;5;241;43m.\u001b[39;49m\u001b[43mfit\u001b[49m\u001b[43m(\u001b[49m\u001b[43mX_train\u001b[49m\u001b[43m,\u001b[49m\u001b[43m \u001b[49m\u001b[43mY_train\u001b[49m\u001b[43m)\u001b[49m\n\u001b[1;32m     43\u001b[0m Y_predicted \u001b[38;5;241m=\u001b[39m classifier\u001b[38;5;241m.\u001b[39mpredict(X_test)\n\u001b[1;32m     45\u001b[0m accuracy \u001b[38;5;241m=\u001b[39m metrics\u001b[38;5;241m.\u001b[39maccuracy_score(Y_test, Y_predicted)\n",
      "File \u001b[0;32m~/.local/lib/python3.10/site-packages/sklearn/svm/_base.py:217\u001b[0m, in \u001b[0;36mBaseLibSVM.fit\u001b[0;34m(self, X, y, sample_weight)\u001b[0m\n\u001b[1;32m    211\u001b[0m     \u001b[38;5;28;01mraise\u001b[39;00m \u001b[38;5;167;01mValueError\u001b[39;00m(\n\u001b[1;32m    212\u001b[0m         \u001b[38;5;124m\"\u001b[39m\u001b[38;5;124mX and y have incompatible shapes.\u001b[39m\u001b[38;5;130;01m\\n\u001b[39;00m\u001b[38;5;124m\"\u001b[39m\n\u001b[1;32m    213\u001b[0m         \u001b[38;5;241m+\u001b[39m \u001b[38;5;124m\"\u001b[39m\u001b[38;5;124mX has \u001b[39m\u001b[38;5;132;01m%s\u001b[39;00m\u001b[38;5;124m samples, but y has \u001b[39m\u001b[38;5;132;01m%s\u001b[39;00m\u001b[38;5;124m.\u001b[39m\u001b[38;5;124m\"\u001b[39m \u001b[38;5;241m%\u001b[39m (n_samples, y\u001b[38;5;241m.\u001b[39mshape[\u001b[38;5;241m0\u001b[39m])\n\u001b[1;32m    214\u001b[0m     )\n\u001b[1;32m    216\u001b[0m \u001b[38;5;28;01mif\u001b[39;00m \u001b[38;5;28mself\u001b[39m\u001b[38;5;241m.\u001b[39mkernel \u001b[38;5;241m==\u001b[39m \u001b[38;5;124m\"\u001b[39m\u001b[38;5;124mprecomputed\u001b[39m\u001b[38;5;124m\"\u001b[39m \u001b[38;5;129;01mand\u001b[39;00m n_samples \u001b[38;5;241m!=\u001b[39m X\u001b[38;5;241m.\u001b[39mshape[\u001b[38;5;241m1\u001b[39m]:\n\u001b[0;32m--> 217\u001b[0m     \u001b[38;5;28;01mraise\u001b[39;00m \u001b[38;5;167;01mValueError\u001b[39;00m(\n\u001b[1;32m    218\u001b[0m         \u001b[38;5;124m\"\u001b[39m\u001b[38;5;124mPrecomputed matrix must be a square matrix.\u001b[39m\u001b[38;5;124m\"\u001b[39m\n\u001b[1;32m    219\u001b[0m         \u001b[38;5;124m\"\u001b[39m\u001b[38;5;124m Input is a \u001b[39m\u001b[38;5;132;01m{}\u001b[39;00m\u001b[38;5;124mx\u001b[39m\u001b[38;5;132;01m{}\u001b[39;00m\u001b[38;5;124m matrix.\u001b[39m\u001b[38;5;124m\"\u001b[39m\u001b[38;5;241m.\u001b[39mformat(X\u001b[38;5;241m.\u001b[39mshape[\u001b[38;5;241m0\u001b[39m], X\u001b[38;5;241m.\u001b[39mshape[\u001b[38;5;241m1\u001b[39m])\n\u001b[1;32m    220\u001b[0m     )\n\u001b[1;32m    222\u001b[0m \u001b[38;5;28;01mif\u001b[39;00m sample_weight\u001b[38;5;241m.\u001b[39mshape[\u001b[38;5;241m0\u001b[39m] \u001b[38;5;241m>\u001b[39m \u001b[38;5;241m0\u001b[39m \u001b[38;5;129;01mand\u001b[39;00m sample_weight\u001b[38;5;241m.\u001b[39mshape[\u001b[38;5;241m0\u001b[39m] \u001b[38;5;241m!=\u001b[39m n_samples:\n\u001b[1;32m    223\u001b[0m     \u001b[38;5;28;01mraise\u001b[39;00m \u001b[38;5;167;01mValueError\u001b[39;00m(\n\u001b[1;32m    224\u001b[0m         \u001b[38;5;124m\"\u001b[39m\u001b[38;5;124msample_weight and X have incompatible shapes: \u001b[39m\u001b[38;5;124m\"\u001b[39m\n\u001b[1;32m    225\u001b[0m         \u001b[38;5;124m\"\u001b[39m\u001b[38;5;132;01m%r\u001b[39;00m\u001b[38;5;124m vs \u001b[39m\u001b[38;5;132;01m%r\u001b[39;00m\u001b[38;5;130;01m\\n\u001b[39;00m\u001b[38;5;124m\"\u001b[39m\n\u001b[0;32m   (...)\u001b[0m\n\u001b[1;32m    228\u001b[0m         \u001b[38;5;241m%\u001b[39m (sample_weight\u001b[38;5;241m.\u001b[39mshape, X\u001b[38;5;241m.\u001b[39mshape)\n\u001b[1;32m    229\u001b[0m     )\n",
      "\u001b[0;31mValueError\u001b[0m: Precomputed matrix must be a square matrix. Input is a 9x4 matrix."
     ]
    }
   ],
   "source": [
    "def black_box_function(C, kernel, degree, gamma, tol):\n",
    "    \n",
    "    if int(kernel) == 1:\n",
    "        kernel = \"linear\"\n",
    "    elif int(kernel) == 2:\n",
    "        kernel = \"linear\"\n",
    "    elif int(kernel) == 3:\n",
    "        kernel = \"poly\"\n",
    "    elif int(kernel) == 4:\n",
    "        kernel = \"rbf\"\n",
    "    elif int(kernel) == 5:\n",
    "        kernel = \"sigmoid\"\n",
    "    elif int(kernel) == 6:\n",
    "        kernel = \"precomputed\"\n",
    "        \n",
    "    if int(gamma) == 1:\n",
    "        gamma = \"scale\"\n",
    "    elif int(gamma) == 2:\n",
    "        gamma = \"scale\"\n",
    "    elif int(gamma) == 3:\n",
    "        gamma = \"auto\"\n",
    "    \n",
    "    # 10 fold cross validation\n",
    "    accuracy_list = []\n",
    "    for i in range(10):\n",
    "        \n",
    "        X_train = []\n",
    "        Y_train = []\n",
    "        X_test = []\n",
    "        Y_test = []\n",
    "        \n",
    "        for j in range(10):\n",
    "            if (j == i):\n",
    "                X_test.append(X[j])\n",
    "                Y_test.append(Y[j])\n",
    "            else:\n",
    "                X_train.append(X[j])\n",
    "                Y_train.append(Y[j])\n",
    "                \n",
    "        classifier = svm.SVC(C=C, kernel=kernel, degree=int(degree), gamma=gamma, tol=tol)\n",
    "        classifier.fit(X_train, Y_train)\n",
    "\n",
    "        Y_predicted = classifier.predict(X_test)\n",
    "        \n",
    "        accuracy = metrics.accuracy_score(Y_test, Y_predicted)\n",
    "        accuracy_list.append(accuracy)\n",
    "            \n",
    "    return sum(accuracy_list)/len(accuracy_list)\n",
    "\n",
    "    \n",
    "optimizer = BayesianOptimization(f = black_box_function,\n",
    "                                 pbounds = hyperparameters, verbose = 2,\n",
    "                                 random_state = 4)\n",
    "\n",
    "# optimizer.maximize(init_points = 5, n_iter = 200)\n",
    "\n",
    "utility = UtilityFunction(kind = \"ucb\", kappa = 1.96, xi = 0.01)\n",
    "\n",
    "time = 0\n",
    "number_iterations = 100\n",
    "for i in range(number_iterations):\n",
    "    \n",
    "    starttime = timeit.default_timer()\n",
    "    \n",
    "    # Get optimizer to suggest new parameter values to try using the\n",
    "    # specified acquisition function.\n",
    "    next_point = optimizer.suggest(utility)    # Force degree from float to int.\n",
    "    \n",
    "    # the new parameter values.\n",
    "    target = black_box_function(**next_point)    \n",
    "    try:\n",
    "        # Update the optimizer with the evaluation results. \n",
    "        # This should be in try-except to catch any errors!\n",
    "        optimizer.register(params = next_point, target = target)\n",
    "    except:\n",
    "        pass\n",
    "    \n",
    "    percentage = i/number_iterations\n",
    "\n",
    "    endtime = timeit.default_timer()\n",
    "    time += (endtime-starttime)\n",
    "    \n",
    "    remaining_time_prediction = (time/(i+1))*number_iterations - time\n",
    "    \n",
    "    update_progress(percentage, (endtime-starttime), remaining_time_prediction)\n",
    "    \n",
    "\n",
    "print(\"Iterations took \", time, \" seconds.\")    \n",
    "\n",
    "    "
   ]
  },
  {
   "cell_type": "markdown",
   "id": "4a1ef727",
   "metadata": {},
   "source": [
    "## 4. Plotting and Result"
   ]
  },
  {
   "cell_type": "code",
   "execution_count": 28,
   "id": "bde4b4ba",
   "metadata": {},
   "outputs": [
    {
     "name": "stdout",
     "output_type": "stream",
     "text": [
      "Best result: {'C': 9.670298390136766, 'degree': 3.1889289967028893, 'gamma': 2.9453687199297685, 'kernel': 4.574079968371823, 'tol': 0.0697731847309025}; Accuracy: 0.600.\n"
     ]
    }
   ],
   "source": [
    "print(\"Best result: {}; Accuracy: {:.3f}.\".format(optimizer.max[\"params\"], optimizer.max[\"target\"]))\n",
    "\n",
    "#plt.figure(figsize = (15, 5))\n",
    "#plt.plot(range(1, 1 + len(optimizer.space.target)), optimizer.space.target, \"-o\")\n",
    "#plt.grid(True)\n",
    "#plt.xlabel(\"Iteration\", fontsize = 14)\n",
    "#plt.ylabel(\"Black box function f(x)\", fontsize = 14)\n",
    "#plt.xticks(fontsize = 14)\n",
    "#plt.yticks(fontsize = 14)\n",
    "#plt.show()"
   ]
  },
  {
   "cell_type": "code",
   "execution_count": null,
   "id": "232272c2",
   "metadata": {},
   "outputs": [],
   "source": []
  }
 ],
 "metadata": {
  "kernelspec": {
   "display_name": "Python 3 (ipykernel)",
   "language": "python",
   "name": "python3"
  },
  "language_info": {
   "codemirror_mode": {
    "name": "ipython",
    "version": 3
   },
   "file_extension": ".py",
   "mimetype": "text/x-python",
   "name": "python",
   "nbconvert_exporter": "python",
   "pygments_lexer": "ipython3",
   "version": "3.10.6"
  }
 },
 "nbformat": 4,
 "nbformat_minor": 5
}
