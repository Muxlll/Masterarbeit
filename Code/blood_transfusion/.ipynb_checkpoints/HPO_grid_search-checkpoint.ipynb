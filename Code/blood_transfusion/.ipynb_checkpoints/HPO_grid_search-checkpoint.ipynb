{
 "cells": [
  {
   "cell_type": "markdown",
   "id": "dabb667d",
   "metadata": {},
   "source": [
    "# Hyperparameteroptimization\n",
    "\n",
    "Dataset: https://www.openml.org/search?type=data&sort=runs&status=active&id=1464\n",
    "Task: https://www.openml.org/search?type=task&id=10101&source_data.data_id=1464\n",
    "\n",
    "Steps:\n",
    "   1. Definition of the data\n",
    "   2. Definition of the hyperparameter space\n",
    "   3. Loop over all different combinations of the hyperparamter space\n",
    "       1. Define the model with the hyperparameters\n",
    "       2. Optimize model (learning phase)\n",
    "       3. Evaluate model and store metric with the parameters\n",
    " "
   ]
  },
  {
   "cell_type": "markdown",
   "id": "43e6368f",
   "metadata": {},
   "source": [
    "## 0. Imports & utils"
   ]
  },
  {
   "cell_type": "code",
   "execution_count": 1,
   "id": "254923fc",
   "metadata": {},
   "outputs": [],
   "source": [
    "import numpy as np\n",
    "import matplotlib.pyplot as plt\n",
    "import os\n",
    "import torch\n",
    "from sklearn import svm, metrics\n",
    "from sklearn.utils import shuffle\n",
    "\n",
    "\n",
    "import timeit\n",
    "\n",
    "import torch.nn as nn\n",
    "import torch.nn.functional as F\n",
    "import torch.optim as optim\n",
    "\n",
    "import itertools\n",
    "\n",
    "from mpl_toolkits import mplot3d\n",
    "\n",
    "from scipy.io import arff\n",
    "import pandas as pd\n",
    "\n",
    "%matplotlib inline\n",
    "import numpy as np\n",
    "import matplotlib.pyplot as plt\n",
    "\n",
    "import time, sys\n",
    "from IPython.display import clear_output\n",
    "\n",
    "import pysgpp\n",
    "\n",
    "\n",
    "def update_progress(progress, time, remaining_time):\n",
    "    bar_length = 20\n",
    "    if isinstance(progress, int):\n",
    "        progress = float(progress)\n",
    "    if not isinstance(progress, float):\n",
    "        progress = 0\n",
    "    if progress < 0:\n",
    "        progress = 0\n",
    "    if progress >= 1:\n",
    "        progress = 1\n",
    "\n",
    "    block = int(round(bar_length * progress))\n",
    "    clear_output(wait = True)\n",
    "    text = \"Progress: [{0}] {1:.1f}%\".format( \"#\" * block + \"-\" * (bar_length - block), progress * 100)\n",
    "    text += \"\\nCurrent time per iteration: \" + str(time)\n",
    "    text += \"\\nApprox. time remaining: \" + str(remaining_time)\n",
    "    print(text)\n",
    "\n",
    "    \n",
    "def to_standard(lower, upper, value):\n",
    "    return (value-lower)/(upper-lower)\n",
    "\n",
    "\n",
    "def from_standard(lower, upper, value):\n",
    "    return value*(upper-lower)+lower"
   ]
  },
  {
   "cell_type": "markdown",
   "id": "390510ac",
   "metadata": {},
   "source": [
    "## 1. Definition of Data"
   ]
  },
  {
   "cell_type": "code",
   "execution_count": 2,
   "id": "59d6d9fd",
   "metadata": {
    "scrolled": false
   },
   "outputs": [
    {
     "name": "stdout",
     "output_type": "stream",
     "text": [
      "Number of samples:  748\n"
     ]
    }
   ],
   "source": [
    "SPLIT_RATIO = 0.8\n",
    "\n",
    "data = arff.loadarff('php0iVrYT.arff')\n",
    "df = pd.DataFrame(data[0])\n",
    "\n",
    "df['Class'].replace([b'1', b'2'], [1, 2], inplace=True)\n",
    "\n",
    "X = []\n",
    "Y = []\n",
    "\n",
    "for i in range(len(df)):\n",
    "    data = []\n",
    "    data.append(df['V1'][i])\n",
    "    data.append(df['V2'][i])\n",
    "    data.append(df['V3'][i])\n",
    "    data.append(df['V4'][i])\n",
    "    \n",
    "    X.append(data)\n",
    "    Y.append(df['Class'][i])\n",
    "\n",
    "print(\"Number of samples: \", len(X))\n",
    "\n",
    "X, Y = shuffle(X, Y)\n",
    "\n",
    "# 10 fold validation:\n",
    "size_chunks = int(len(X)/10)\n",
    "X_folds = [X[x:x+size_chunks] for x in range(0, len(X)-size_chunks, size_chunks)]\n",
    "Y_folds = [Y[x:x+size_chunks] for x in range(0, len(Y)-size_chunks, size_chunks)]\n",
    "\n",
    "#X_train = torch.Tensor(X[:int(len(X) * SPLIT_RATIO)])\n",
    "#X_test = torch.Tensor(X[int(len(X) * SPLIT_RATIO):])\n",
    "#Y_train = torch.Tensor(Y[:int(len(Y) * SPLIT_RATIO)])\n",
    "#Y_test = torch.Tensor(Y[int(len(Y) * SPLIT_RATIO):])\n",
    "\n",
    "#print(\"Number of training samples: \", len(X_train))\n",
    "#print(\"Number of testing samples: \", len(X_test))"
   ]
  },
  {
   "cell_type": "markdown",
   "id": "573e7eb2",
   "metadata": {},
   "source": [
    "## 2. Definition of Hyperparameter space"
   ]
  },
  {
   "cell_type": "code",
   "execution_count": 5,
   "id": "e2e13b83",
   "metadata": {},
   "outputs": [
    {
     "name": "stdout",
     "output_type": "stream",
     "text": [
      "Number of hyperparameters:  5\n"
     ]
    }
   ],
   "source": [
    "hyperparameters = {\n",
    "    \"C\" : [\"interval\", 0.0, 10],\n",
    "    \"kernel\" : [\"set\", \"linear\", \"poly\"],#, \"rbf\", \"sigmoid\", \"precomputed\"],\n",
    "    \"degree\" : [\"interval\", 1, 5],\n",
    "    \"gamma\" : [\"set\", \"scale\", \"auto\"],\n",
    "    \"tol\" : [\"interval\", 0.000001, 0.1]\n",
    "}\n",
    "\n",
    "print(\"Number of hyperparameters: \", len(hyperparameters))"
   ]
  },
  {
   "cell_type": "markdown",
   "id": "6abe03cd",
   "metadata": {},
   "source": [
    "## 3. Loop over combinations"
   ]
  },
  {
   "cell_type": "code",
   "execution_count": 6,
   "id": "380997d8",
   "metadata": {
    "scrolled": true
   },
   "outputs": [
    {
     "name": "stdout",
     "output_type": "stream",
     "text": [
      "Progress: [####################] 100.0%\n",
      "Current time per iteration: 244.43991107200054\n",
      "Approx. time remaining: 0.0\n",
      "Iterations took  2145.824103076993  seconds.\n"
     ]
    }
   ],
   "source": [
    "number_per_dimension = 2\n",
    "\n",
    "list_of_values = []\n",
    "\n",
    "for k in hyperparameters.keys():\n",
    "    \n",
    "    liste = hyperparameters[k]\n",
    "    \n",
    "    values = []\n",
    "    \n",
    "    # fill with distinct values in interval (regular distance)\n",
    "    if liste[0] == \"interval\":\n",
    "        lower, upper = liste[1], liste[2]\n",
    "\n",
    "        for j in range(number_per_dimension):\n",
    "            values.append(lower+((upper-lower)/(2*number_per_dimension))+j*((upper-lower)/(number_per_dimension)))\n",
    "\n",
    "        list_of_values.append(values)\n",
    "        \n",
    "    # discrete values already given because of set \n",
    "    else:\n",
    "        for j in range(len(liste)-1):\n",
    "            values.append(liste[j+1])\n",
    "            \n",
    "        list_of_values.append(values)\n",
    "        \n",
    "\n",
    "results_accuracy = []\n",
    "results_loss = []\n",
    "\n",
    "all_combinations = itertools.product(*list_of_values)\n",
    "\n",
    "\n",
    "number_combinations = 1\n",
    "for i in range(len(list_of_values)):\n",
    "    number_combinations *= len(list_of_values[i])\n",
    "\n",
    "    \n",
    "time = 0\n",
    "count = 0\n",
    "for combination in all_combinations:\n",
    "    #print(\"Current combination: \",combination)\n",
    "    starttime = timeit.default_timer()\n",
    "    \n",
    "    C = combination[0]\n",
    "    kernel = combination[1]\n",
    "    degree = combination[2]\n",
    "    gamma = combination[3]\n",
    "    tol = combination[4]\n",
    "    \n",
    "    # 10 fold cross validation\n",
    "    accuracy_list = []\n",
    "    for i in range(10):\n",
    "        \n",
    "        X_train = []\n",
    "        Y_train = []\n",
    "        X_test = []\n",
    "        Y_test = []\n",
    "        \n",
    "        for j in range(10):\n",
    "            if (j == i):\n",
    "                X_test.append(X[j])\n",
    "                Y_test.append(Y[j])\n",
    "            else:\n",
    "                X_train.append(X[j])\n",
    "                Y_train.append(Y[j])\n",
    "                \n",
    "        classifier = svm.SVC(C=C, kernel=kernel, degree=int(degree), gamma=gamma, tol=tol)\n",
    "        classifier.fit(X_train, Y_train)\n",
    "\n",
    "        Y_predicted = classifier.predict(X_test)\n",
    "        \n",
    "        accuracy = metrics.accuracy_score(Y_test, Y_predicted)\n",
    "        accuracy_list.append(accuracy)\n",
    "        \n",
    "    results_accuracy.append((combination, (sum(accuracy_list)/len(accuracy_list))))\n",
    "    \n",
    "    count+=1\n",
    "    percentage = count/number_combinations\n",
    "\n",
    "    endtime = timeit.default_timer()\n",
    "    time += (endtime-starttime)\n",
    "    \n",
    "    remaining_time_prediction = (time/count)*number_combinations - time\n",
    "    \n",
    "    update_progress(percentage, (endtime-starttime), remaining_time_prediction)\n",
    "    \n",
    "#print(\"Resulting losses: \")\n",
    "#print(results_loss)\n",
    "print(\"Iterations took \", time, \" seconds.\")\n",
    "\n",
    "#print(\"Resulting accuracy: \")\n",
    "#print(results_accuracy)"
   ]
  },
  {
   "cell_type": "markdown",
   "id": "4a1ef727",
   "metadata": {},
   "source": [
    "## 4. Plotting and Result"
   ]
  },
  {
   "cell_type": "code",
   "execution_count": 7,
   "id": "bde4b4ba",
   "metadata": {},
   "outputs": [
    {
     "name": "stdout",
     "output_type": "stream",
     "text": [
      "Highest Accuracy:  0.8\n",
      "With hyperparameter combination:  (7.5, 'poly', 4.0, 'scale', 0.07500025)\n"
     ]
    }
   ],
   "source": [
    "accuracies = [x[1] for x in results_accuracy]\n",
    "\n",
    "print(\"Highest Accuracy: \", max(accuracies))\n",
    "combi = -1\n",
    "for i in results_accuracy:\n",
    "    if i[1] == max(accuracies):\n",
    "        combi = i[0]\n",
    "print(\"With hyperparameter combination: \", combi)\n"
   ]
  },
  {
   "cell_type": "code",
   "execution_count": null,
   "id": "232272c2",
   "metadata": {},
   "outputs": [],
   "source": [
    "\n"
   ]
  },
  {
   "cell_type": "code",
   "execution_count": null,
   "id": "68bd419d",
   "metadata": {},
   "outputs": [],
   "source": []
  }
 ],
 "metadata": {
  "kernelspec": {
   "display_name": "Python 3 (ipykernel)",
   "language": "python",
   "name": "python3"
  },
  "language_info": {
   "codemirror_mode": {
    "name": "ipython",
    "version": 3
   },
   "file_extension": ".py",
   "mimetype": "text/x-python",
   "name": "python",
   "nbconvert_exporter": "python",
   "pygments_lexer": "ipython3",
   "version": "3.10.6"
  }
 },
 "nbformat": 4,
 "nbformat_minor": 5
}
