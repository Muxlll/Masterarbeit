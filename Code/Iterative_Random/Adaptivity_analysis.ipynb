{
 "cells": [
  {
   "attachments": {},
   "cell_type": "markdown",
   "metadata": {},
   "source": [
    "### Baseline experiment\n",
    "\n",
    "Experiment to compare the 4 Optimization algorithms before trying to improve sparse search"
   ]
  },
  {
   "cell_type": "code",
   "execution_count": 6,
   "metadata": {},
   "outputs": [],
   "source": [
    "import sys  \n",
    "sys.path.insert(0, '../')\n",
    "\n",
    "import HPO\n",
    "import pysgpp\n",
    "import matplotlib.pyplot as plt\n",
    "import matplotlib as mpl\n",
    "import tensorflow as tf\n",
    "import sklearn.metrics\n",
    "from sklearn.model_selection import KFold\n",
    "import numpy as np\n",
    "import keras\n",
    "from keras import backend as K\n",
    "from tensorflow.keras.models import Sequential\n",
    "from tensorflow.keras.layers import Dense\n",
    "from scikeras.wrappers import KerasRegressor\n",
    "from sklearn.compose import ColumnTransformer\n",
    "from sklearn.compose import TransformedTargetRegressor\n",
    "from sklearn.pipeline import Pipeline\n",
    "from sklearn.impute import SimpleImputer\n",
    "from sklearn.feature_selection import SelectPercentile, chi2\n",
    "from sklearn.preprocessing import OneHotEncoder, StandardScaler\n",
    "from numpy.random import seed\n",
    "import random\n",
    "import time\n",
    "import os\n",
    "import math\n",
    "from matplotlib import cm\n",
    "import matplotlib \n",
    "import matplotlib.patches as patches\n",
    "\n",
    "import operator\n",
    "\n",
    "from scipy.stats import norm\n",
    "\n",
    "# matplotlib.use(\"pgf\")\n",
    "# matplotlib.rcParams.update({\n",
    "#     \"pgf.texsystem\": \"pdflatex\",\n",
    "#     'font.family': 'serif',\n",
    "#     'text.usetex': True,\n",
    "#     'pgf.rcfonts': False,\n",
    "# })\n",
    "\n",
    "random.seed(1)\n",
    "seed(2)\n",
    "tf.random.set_seed(3)\n",
    "\n",
    "def reset_seeds():\n",
    "    np.random.seed(1)\n",
    "    random.seed(2)\n",
    "    tf.random.set_seed(3)\n",
    "\n",
    "VERBOSE = 0\n",
    "\n",
    "SPARSE_RESULT = []\n",
    "SPARSE_RESULT_OPTIMIZED = []\n",
    "\n",
    "SPARSE_COST = []\n",
    "SPARSE_COST_OPTIMIZED = []"
   ]
  },
  {
   "attachments": {},
   "cell_type": "markdown",
   "metadata": {},
   "source": [
    "### Hyperparameter space definition"
   ]
  },
  {
   "cell_type": "code",
   "execution_count": 7,
   "metadata": {},
   "outputs": [],
   "source": [
    "hyperparameterspace = {\n",
    "    'x0': [\"interval\", -5, 10],\n",
    "    'x1': [\"interval\", -5, 10],\n",
    "    #'learning_rate': [\"interval-log\", 0.000000001, 0.1],\n",
    "    #'number_layers': [\"interval-int\", 1, 20],\n",
    "    #'neurons_per_layer': [\"interval-int\", 1, 50]\n",
    "}\n",
    "\n",
    "hyperparameterspace_special = {}\n",
    "for key in hyperparameterspace.keys():\n",
    "    liste = []\n",
    "    for i in range(1, len(hyperparameterspace[key])):\n",
    "        liste.append(hyperparameterspace[key][i])\n",
    "    hyperparameterspace_special[key] = liste\n",
    "\n"
   ]
  },
  {
   "attachments": {},
   "cell_type": "markdown",
   "metadata": {},
   "source": [
    "### Experiment parameters"
   ]
  },
  {
   "cell_type": "code",
   "execution_count": 8,
   "metadata": {},
   "outputs": [],
   "source": [
    "\n",
    "\n",
    "BUDGETS = [1 + i * 52 for i in range(19)]"
   ]
  },
  {
   "cell_type": "code",
   "execution_count": 9,
   "metadata": {},
   "outputs": [],
   "source": [
    "def visualize(points, adaptivity, alternative):\n",
    "    x_values = []\n",
    "    y_values = []\n",
    "    z_values = []\n",
    "\n",
    "    for i in range(len(points)):    \n",
    "        x_values.append(points[i].get_coordinates()[0])\n",
    "        y_values.append(points[i].get_coordinates()[1])\n",
    "        z_values.append(points[i].get_value())\n",
    "\n",
    "\n",
    "    fig = plt.figure()\n",
    "    ax = plt.axes()\n",
    "    surface = plt.scatter(x_values, y_values, c=z_values, cmap=\"plasma\")\n",
    "    plt.scatter(points[0].get_coordinates()[0], points[0].get_coordinates()[1], c=\"white\", marker=\"x\")\n",
    "\n",
    "\n",
    "    ax.set_xlim([-5, 10])\n",
    "    ax.set_ylim([-5, 10])\n",
    "\n",
    "    plt.colorbar(surface)\n",
    "    plt.gca().set_aspect(\"equal\")\n",
    "\n",
    "    # plt.savefig(\"./Alternative_\"+str(alternative)+\"_adapt_\"+str(adaptivity)+\".pgf\",bbox_inches='tight' )\n",
    "\n",
    "    plt.show()"
   ]
  },
  {
   "attachments": {},
   "cell_type": "markdown",
   "metadata": {},
   "source": [
    "### Optimization"
   ]
  },
  {
   "cell_type": "code",
   "execution_count": 10,
   "metadata": {},
   "outputs": [
    {
     "name": "stdout",
     "output_type": "stream",
     "text": [
      "{(0.0,1.517121125222536)(0.1,1.517121125222536)(0.2,1.517121125222536)(0.30000000000000004,1.517121125222536)(0.4,1.517121125222536)(0.5,1.517121125222536)(0.6000000000000001,1.5171211252086616)(0.7000000000000001,0.02466439437702513)(0.8,0.33502340624824123)(0.9,2.61442204654008)(1.0,4.566409386159776)}\n",
      "{(0.0,0.008060015566753589)(0.1,0.008060015566753589)(0.2,0.008060015566753589)(0.30000000000000004,0.0023118954614058484)(0.4,0.002311894614521982)(0.5,0.008182947611344513)(0.6000000000000001,0.05339618203112462)(0.7000000000000001,0.08011233075458785)(0.8,2.1785202665483165)(0.9,1.5532894112998432)(1.0,55.21325276318493)}\n",
      "{(0.0,0.04143540730358583)(0.1,0.04143540730358583)(0.2,0.04143540730358583)(0.30000000000000004,0.04143540730358583)(0.4,0.04143540730358583)(0.5,0.04143540730358583)(0.6000000000000001,0.1143331623160982)(0.7000000000000001,0.44676242767744595)(0.8,0.4676312056273927)(0.9,1.3722867702638328)(1.0,7.035490443472938)}\n"
     ]
    }
   ],
   "source": [
    "\n",
    "################## MODEL AND FUNCTION DEFINITION ####################\n",
    "\n",
    "def evaluate_model(epochs, batch_size):\n",
    "    #return epochs * batch_size\n",
    "    ################### ROSENBROCK ###############\n",
    "    sum = 0\n",
    "    sum += (1-epochs)**2 + 100 * (batch_size - epochs**2) ** 2\n",
    "    return sum\n",
    "\n",
    "    # ################# RASTRIGIN #################\n",
    "    sum = 0\n",
    "    sum += epochs ** 2 - 10 * math.cos(2 * math.pi * epochs)\n",
    "    sum += batch_size ** 2 - 10 * math.cos(2 * math.pi * batch_size)\n",
    "    \n",
    "    return len(hyperparameterspace) * 10 + sum\n",
    "\n",
    "def function(coordinates):\n",
    "    return evaluate_model(coordinates[0], coordinates[1])\n",
    "\n",
    "\n",
    "BUDGET = 200\n",
    "INIT_POINTS = 5\n",
    "\n",
    "ADAPTIVITIES = [0.1 * i for i in range(11)]\n",
    "\n",
    "\n",
    "ALT_1 = \"{\"\n",
    "ALT_2 = \"{\"\n",
    "ALT_3 = \"{\"\n",
    "\n",
    "\n",
    "for adaptivity in ADAPTIVITIES:\n",
    "\n",
    "    reset_seeds()\n",
    "\n",
    "    optimizer = HPO.IterativeRandomOptimization(HPO.Dataset([],[]), function, hyperparameterspace, BUDGET, 0, adaptivity, init_points=INIT_POINTS, alternative=0)\n",
    "    points = optimizer.fit()\n",
    "\n",
    "    points.sort(key=operator.attrgetter('value'))\n",
    "\n",
    "    ALT_1 += \"(\" + str(adaptivity) + \",\" + str(points[0].get_value()) + \")\"\n",
    "\n",
    "\n",
    "    reset_seeds()\n",
    "\n",
    "    optimizer = HPO.IterativeRandomOptimization(HPO.Dataset([],[]), function, hyperparameterspace, BUDGET, 0, adaptivity, init_points=INIT_POINTS, alternative=1)\n",
    "    points = optimizer.fit()\n",
    "\n",
    "    points.sort(key=operator.attrgetter('value'))\n",
    "    \n",
    "\n",
    "    ALT_2 += \"(\" + str(adaptivity) + \",\" + str(points[0].get_value()) + \")\"\n",
    "\n",
    "\n",
    "\n",
    "    optimizer = HPO.IterativeRandomOptimization(HPO.Dataset([],[]), function, hyperparameterspace, BUDGET, 0, adaptivity, init_points=INIT_POINTS, alternative=2)\n",
    "    points = optimizer.fit()\n",
    "\n",
    "    points.sort(key=operator.attrgetter('value'))\n",
    "\n",
    "\n",
    "    ALT_3 += \"(\" + str(adaptivity) + \",\" + str(points[0].get_value()) + \")\"\n",
    "\n",
    "\n",
    "print(ALT_1+\"}\")\n",
    "print(ALT_2+\"}\")\n",
    "print(ALT_3+\"}\")\n",
    "\n"
   ]
  }
 ],
 "metadata": {
  "kernelspec": {
   "display_name": "Python 3 (ipykernel)",
   "language": "python",
   "name": "python3"
  },
  "language_info": {
   "codemirror_mode": {
    "name": "ipython",
    "version": 3
   },
   "file_extension": ".py",
   "mimetype": "text/x-python",
   "name": "python",
   "nbconvert_exporter": "python",
   "pygments_lexer": "ipython3",
   "version": "3.10.6"
  },
  "vscode": {
   "interpreter": {
    "hash": "e7370f93d1d0cde622a1f8e1c04877d8463912d04d973331ad4851f04de6915a"
   }
  }
 },
 "nbformat": 4,
 "nbformat_minor": 2
}
