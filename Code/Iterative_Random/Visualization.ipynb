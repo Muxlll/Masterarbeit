{
 "cells": [
  {
   "attachments": {},
   "cell_type": "markdown",
   "metadata": {},
   "source": [
    "### Baseline experiment\n",
    "\n",
    "Experiment to compare the 4 Optimization algorithms before trying to improve sparse search"
   ]
  },
  {
   "cell_type": "code",
   "execution_count": 70,
   "metadata": {},
   "outputs": [],
   "source": [
    "import sys  \n",
    "sys.path.insert(0, '../')\n",
    "\n",
    "import HPO\n",
    "import pysgpp\n",
    "import matplotlib.pyplot as plt\n",
    "import matplotlib as mpl\n",
    "import tensorflow as tf\n",
    "import sklearn.metrics\n",
    "from sklearn.model_selection import KFold\n",
    "import numpy as np\n",
    "import keras\n",
    "from keras import backend as K\n",
    "from tensorflow.keras.models import Sequential\n",
    "from tensorflow.keras.layers import Dense\n",
    "from scikeras.wrappers import KerasRegressor\n",
    "from sklearn.compose import ColumnTransformer\n",
    "from sklearn.compose import TransformedTargetRegressor\n",
    "from sklearn.pipeline import Pipeline\n",
    "from sklearn.impute import SimpleImputer\n",
    "from sklearn.feature_selection import SelectPercentile, chi2\n",
    "from sklearn.preprocessing import OneHotEncoder, StandardScaler\n",
    "from numpy.random import seed\n",
    "import random\n",
    "import time\n",
    "import os\n",
    "import math\n",
    "from matplotlib import cm\n",
    "import matplotlib \n",
    "import matplotlib.patches as patches\n",
    "\n",
    "matplotlib.use(\"pgf\")\n",
    "matplotlib.rcParams.update({\n",
    "    \"pgf.texsystem\": \"pdflatex\",\n",
    "    'font.family': 'serif',\n",
    "    'text.usetex': True,\n",
    "    'pgf.rcfonts': False,\n",
    "})\n",
    "\n",
    "random.seed(1)\n",
    "seed(2)\n",
    "tf.random.set_seed(3)\n",
    "\n",
    "def reset_seeds():\n",
    "    np.random.seed(1)\n",
    "    random.seed(2)\n",
    "    tf.random.set_seed(3)\n",
    "\n",
    "VERBOSE = 0\n",
    "\n",
    "SPARSE_RESULT = []\n",
    "SPARSE_RESULT_OPTIMIZED = []\n",
    "\n",
    "SPARSE_COST = []\n",
    "SPARSE_COST_OPTIMIZED = []"
   ]
  },
  {
   "attachments": {},
   "cell_type": "markdown",
   "metadata": {},
   "source": [
    "### Hyperparameter space definition"
   ]
  },
  {
   "cell_type": "code",
   "execution_count": 71,
   "metadata": {},
   "outputs": [],
   "source": [
    "hyperparameterspace = {\n",
    "    'x0': [\"interval\", -5, 10],\n",
    "    'x1': [\"interval\", -5, 10],\n",
    "    #'learning_rate': [\"interval-log\", 0.000000001, 0.1],\n",
    "    #'number_layers': [\"interval-int\", 1, 20],\n",
    "    #'neurons_per_layer': [\"interval-int\", 1, 50]\n",
    "}\n",
    "\n",
    "hyperparameterspace_special = {}\n",
    "for key in hyperparameterspace.keys():\n",
    "    liste = []\n",
    "    for i in range(1, len(hyperparameterspace[key])):\n",
    "        liste.append(hyperparameterspace[key][i])\n",
    "    hyperparameterspace_special[key] = liste\n",
    "\n"
   ]
  },
  {
   "attachments": {},
   "cell_type": "markdown",
   "metadata": {},
   "source": [
    "### Experiment parameters"
   ]
  },
  {
   "cell_type": "code",
   "execution_count": 72,
   "metadata": {},
   "outputs": [],
   "source": [
    "\n",
    "\n",
    "BUDGETS = [1 + i * 52 for i in range(19)]"
   ]
  },
  {
   "attachments": {},
   "cell_type": "markdown",
   "metadata": {},
   "source": [
    "### Optimization"
   ]
  },
  {
   "cell_type": "code",
   "execution_count": 73,
   "metadata": {},
   "outputs": [
    {
     "name": "stdout",
     "output_type": "stream",
     "text": [
      "INITIAL POINTS:\n",
      "Point: 0\n",
      "[4.089162485176937, 4.1020260046125685]\n",
      "Point: 1\n",
      "[-4.15172948409787, -3.7269200726161755]\n",
      "Point: 2\n",
      "[5.045956021603313, -0.3779531361628372]\n",
      "Point: 3\n",
      "[7.5324831719417435, 6.039549836027849]\n",
      "Point: 4\n",
      "[9.34051407833874, 9.21741230589024]\n",
      "Optimum:\n",
      "[4.089162485176937, 4.1020260046125685]\n",
      "15934.023920832717\n"
     ]
    },
    {
     "name": "stderr",
     "output_type": "stream",
     "text": [
      "/tmp/ipykernel_25638/2350682644.py:77: UserWarning: Matplotlib is currently using pgf, which is a non-GUI backend, so cannot show the figure.\n",
      "  plt.show()\n"
     ]
    }
   ],
   "source": [
    "\n",
    "################## MODEL AND FUNCTION DEFINITION ####################\n",
    "\n",
    "def evaluate_model(epochs, batch_size):\n",
    "    #return epochs * batch_size\n",
    "    ################### ROSENBROCK ###############\n",
    "    sum = 0\n",
    "    sum += (1-epochs)**2 + 100 * (batch_size - epochs**2) ** 2\n",
    "    return sum\n",
    "\n",
    "    # ################# RASTRIGIN #################\n",
    "    sum = 0\n",
    "    sum += epochs ** 2 - 10 * math.cos(2 * math.pi * epochs)\n",
    "    sum += batch_size ** 2 - 10 * math.cos(2 * math.pi * batch_size)\n",
    "    \n",
    "    return len(hyperparameterspace) * 10 + sum\n",
    "\n",
    "def function(coordinates):\n",
    "    return evaluate_model(coordinates[0], coordinates[1])\n",
    "\n",
    "\n",
    "BUDGET = 400\n",
    "INIT_POINTS = 5\n",
    "\n",
    "print(\"INITIAL POINTS:\")\n",
    "\n",
    "reset_seeds()\n",
    "\n",
    "optimizer = HPO.IterativeRandomOptimization(HPO.Dataset([],[]), function, hyperparameterspace, INIT_POINTS, 0, 0.5, init_points=INIT_POINTS, alternative=2)\n",
    "points = optimizer.fit()\n",
    "\n",
    "smallest_value = points[0].get_value()\n",
    "index = 0\n",
    "for j in range(len(points)):\n",
    "    print(\"Point:\", j)\n",
    "    print(points[j].get_coordinates())\n",
    "    if points[j].get_value() < smallest_value:\n",
    "        smallest_value = points[j].get_value()\n",
    "        index = j\n",
    "\n",
    "print(\"Optimum:\")\n",
    "print(points[index].get_coordinates())\n",
    "print(points[index].get_value())\n",
    "\n",
    "x_values = []\n",
    "y_values = []\n",
    "z_values = [1, 1, 1, 1, 1]\n",
    "\n",
    "for i in range(len(points)):\n",
    "    x_values.append(points[i].get_coordinates()[0])\n",
    "    y_values.append(points[i].get_coordinates()[1])\n",
    "\n",
    "\n",
    "fig = plt.figure()\n",
    "ax = plt.axes()\n",
    "surface = plt.scatter(x_values, y_values, c=\"red\")\n",
    "plt.scatter([4.089162485176937], [4.1020260046125685], c=\"blue\", marker=\"x\")\n",
    "plt.plot([-5, 10], [-0.3779531361628372, -0.3779531361628372], color='blue')\n",
    "plt.plot([-5, 10], [6.039549836027849, 6.039549836027849], color='blue')\n",
    "plt.plot([-4.15172948409787, -4.15172948409787], [-5, 10], color='blue')\n",
    "plt.plot([5.045956021603313, 5.045956021603313], [-5, 10], color='blue')\n",
    "\n",
    "\n",
    "rect = patches.Rectangle((-4.15172948409787, -0.3779531361628372), 5.045956021603313+4.15172948409787, 6.039549836027849+0.3779531361628372, linewidth=1, edgecolor='blue', facecolor='blue', alpha=0.16)\n",
    "\n",
    "# Add the patch to the Axes\n",
    "ax.add_patch(rect)\n",
    "\n",
    "ax.set_xlim([-5, 10])\n",
    "ax.set_ylim([-5, 10])\n",
    "\n",
    "\n",
    "\n",
    "plt.gca().set_aspect(\"equal\")\n",
    "\n",
    "plt.savefig(\"./Alternative_1.pgf\",bbox_inches='tight' )\n",
    "\n",
    "plt.show()\n"
   ]
  }
 ],
 "metadata": {
  "kernelspec": {
   "display_name": "Python 3 (ipykernel)",
   "language": "python",
   "name": "python3"
  },
  "language_info": {
   "codemirror_mode": {
    "name": "ipython",
    "version": 3
   },
   "file_extension": ".py",
   "mimetype": "text/x-python",
   "name": "python",
   "nbconvert_exporter": "python",
   "pygments_lexer": "ipython3",
   "version": "3.10.6"
  },
  "vscode": {
   "interpreter": {
    "hash": "e7370f93d1d0cde622a1f8e1c04877d8463912d04d973331ad4851f04de6915a"
   }
  }
 },
 "nbformat": 4,
 "nbformat_minor": 2
}
