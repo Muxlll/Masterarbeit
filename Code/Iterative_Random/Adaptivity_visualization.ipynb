{
 "cells": [
  {
   "attachments": {},
   "cell_type": "markdown",
   "metadata": {},
   "source": [
    "### Baseline experiment\n",
    "\n",
    "Experiment to compare the 4 Optimization algorithms before trying to improve sparse search"
   ]
  },
  {
   "cell_type": "code",
   "execution_count": 26,
   "metadata": {},
   "outputs": [],
   "source": [
    "import sys  \n",
    "sys.path.insert(0, '../')\n",
    "\n",
    "import HPO\n",
    "import pysgpp\n",
    "import matplotlib.pyplot as plt\n",
    "import matplotlib as mpl\n",
    "import tensorflow as tf\n",
    "import sklearn.metrics\n",
    "from sklearn.model_selection import KFold\n",
    "import numpy as np\n",
    "import keras\n",
    "from keras import backend as K\n",
    "from tensorflow.keras.models import Sequential\n",
    "from tensorflow.keras.layers import Dense\n",
    "from scikeras.wrappers import KerasRegressor\n",
    "from sklearn.compose import ColumnTransformer\n",
    "from sklearn.compose import TransformedTargetRegressor\n",
    "from sklearn.pipeline import Pipeline\n",
    "from sklearn.impute import SimpleImputer\n",
    "from sklearn.feature_selection import SelectPercentile, chi2\n",
    "from sklearn.preprocessing import OneHotEncoder, StandardScaler\n",
    "from numpy.random import seed\n",
    "import random\n",
    "import time\n",
    "import os\n",
    "import math\n",
    "from matplotlib import cm\n",
    "import matplotlib \n",
    "import matplotlib.patches as patches\n",
    "\n",
    "import operator\n",
    "\n",
    "from scipy.stats import norm\n",
    "\n",
    "# matplotlib.use(\"pgf\")\n",
    "# matplotlib.rcParams.update({\n",
    "#     \"pgf.texsystem\": \"pdflatex\",\n",
    "#     'font.family': 'serif',\n",
    "#     'text.usetex': True,\n",
    "#     'pgf.rcfonts': False,\n",
    "# })\n",
    "\n",
    "random.seed(1)\n",
    "seed(2)\n",
    "tf.random.set_seed(3)\n",
    "\n",
    "def reset_seeds():\n",
    "    np.random.seed(1)\n",
    "    random.seed(2)\n",
    "    tf.random.set_seed(3)\n",
    "\n",
    "VERBOSE = 0\n",
    "\n",
    "SPARSE_RESULT = []\n",
    "SPARSE_RESULT_OPTIMIZED = []\n",
    "\n",
    "SPARSE_COST = []\n",
    "SPARSE_COST_OPTIMIZED = []"
   ]
  },
  {
   "attachments": {},
   "cell_type": "markdown",
   "metadata": {},
   "source": [
    "### Hyperparameter space definition"
   ]
  },
  {
   "cell_type": "code",
   "execution_count": 27,
   "metadata": {},
   "outputs": [],
   "source": [
    "hyperparameterspace = {\n",
    "    'x0': [\"interval\", -5, 10],\n",
    "    'x1': [\"interval\", -5, 10],\n",
    "    #'learning_rate': [\"interval-log\", 0.000000001, 0.1],\n",
    "    #'number_layers': [\"interval-int\", 1, 20],\n",
    "    #'neurons_per_layer': [\"interval-int\", 1, 50]\n",
    "}\n",
    "\n",
    "hyperparameterspace_special = {}\n",
    "for key in hyperparameterspace.keys():\n",
    "    liste = []\n",
    "    for i in range(1, len(hyperparameterspace[key])):\n",
    "        liste.append(hyperparameterspace[key][i])\n",
    "    hyperparameterspace_special[key] = liste\n",
    "\n"
   ]
  },
  {
   "attachments": {},
   "cell_type": "markdown",
   "metadata": {},
   "source": [
    "### Experiment parameters"
   ]
  },
  {
   "cell_type": "code",
   "execution_count": 28,
   "metadata": {},
   "outputs": [],
   "source": [
    "\n",
    "\n",
    "BUDGETS = [1 + i * 52 for i in range(19)]"
   ]
  },
  {
   "cell_type": "code",
   "execution_count": 29,
   "metadata": {},
   "outputs": [],
   "source": [
    "def visualize(points, adaptivity, alternative):\n",
    "    x_values = []\n",
    "    y_values = []\n",
    "    z_values = []\n",
    "\n",
    "    for i in range(len(points)):    \n",
    "        x_values.append(points[i].get_coordinates()[0])\n",
    "        y_values.append(points[i].get_coordinates()[1])\n",
    "        z_values.append(points[i].get_value())\n",
    "\n",
    "\n",
    "    fig = plt.figure()\n",
    "    ax = plt.axes()\n",
    "    surface = plt.scatter(x_values, y_values, c=z_values, cmap=\"plasma\")\n",
    "    plt.scatter(points[0].get_coordinates()[0], points[0].get_coordinates()[1], c=\"white\", marker=\"x\")\n",
    "\n",
    "\n",
    "    ax.set_xlim([-5, 10])\n",
    "    ax.set_ylim([-5, 10])\n",
    "\n",
    "    plt.colorbar(surface)\n",
    "    plt.gca().set_aspect(\"equal\")\n",
    "\n",
    "    # plt.savefig(\"./Alternative_\"+str(alternative)+\"_adapt_\"+str(adaptivity)+\".pgf\",bbox_inches='tight' )\n",
    "\n",
    "    plt.show()"
   ]
  },
  {
   "attachments": {},
   "cell_type": "markdown",
   "metadata": {},
   "source": [
    "### Optimization"
   ]
  },
  {
   "cell_type": "code",
   "execution_count": 30,
   "metadata": {},
   "outputs": [
    {
     "name": "stdout",
     "output_type": "stream",
     "text": [
      "0.0 best point: [2.158598821574482, 4.617743382926759] value 1.517121125222536\n",
      "best point: [0.9541974556509123, 0.9027712932595593] value 0.008060015566753589\n",
      "best point: [1.097943243714717, 1.1936061770810482] value 0.02369014149435738\n",
      "0.75 best point: [1.038927050174919, 1.079563922856002] value 0.001519098543161749\n"
     ]
    },
    {
     "name": "stderr",
     "output_type": "stream",
     "text": [
      "/tmp/ipykernel_41889/1183962981.py:26: UserWarning: Matplotlib is currently using pgf, which is a non-GUI backend, so cannot show the figure.\n",
      "  plt.show()\n"
     ]
    },
    {
     "name": "stdout",
     "output_type": "stream",
     "text": [
      "best point: [1.6268172463461463, 2.6253824302103714] value 0.43764024412597213\n",
      "best point: [0.9605735775731732, 0.838958015201549] value 0.7028532076339621\n",
      "1.0 best point: [0.4058562472117627, -0.04054645111546973] value 4.566409386159776\n",
      "best point: [-0.11352135098080107, -0.7217782890446469] value 55.21325276318493\n",
      "best point: [2.2818252596693043, 4.712738873843234] value 26.04545502357817\n"
     ]
    }
   ],
   "source": [
    "\n",
    "################## MODEL AND FUNCTION DEFINITION ####################\n",
    "\n",
    "def evaluate_model(epochs, batch_size):\n",
    "    #return epochs * batch_size\n",
    "    ################### ROSENBROCK ###############\n",
    "    sum = 0\n",
    "    sum += (1-epochs)**2 + 100 * (batch_size - epochs**2) ** 2\n",
    "    return sum\n",
    "\n",
    "    # ################# RASTRIGIN #################\n",
    "    sum = 0\n",
    "    sum += epochs ** 2 - 10 * math.cos(2 * math.pi * epochs)\n",
    "    sum += batch_size ** 2 - 10 * math.cos(2 * math.pi * batch_size)\n",
    "    \n",
    "    return len(hyperparameterspace) * 10 + sum\n",
    "\n",
    "def function(coordinates):\n",
    "    return evaluate_model(coordinates[0], coordinates[1])\n",
    "\n",
    "\n",
    "BUDGET = 200\n",
    "INIT_POINTS = 5\n",
    "\n",
    "ADAPTIVITIES = [0.0, 0.75, 1.0]\n",
    "\n",
    "for adaptivity in ADAPTIVITIES:\n",
    "\n",
    "    reset_seeds()\n",
    "\n",
    "    optimizer = HPO.IterativeRandomOptimization(HPO.Dataset([],[]), function, hyperparameterspace, BUDGET, 0, adaptivity, init_points=INIT_POINTS, alternative=0)\n",
    "    points = optimizer.fit()\n",
    "\n",
    "    points.sort(key=operator.attrgetter('value'))\n",
    "    print(adaptivity,\"best point:\", points[0].get_coordinates(), \"value\", points[0].get_value())\n",
    "\n",
    "\n",
    "    visualize(points, adaptivity, 0)\n",
    "\n",
    "    reset_seeds()\n",
    "\n",
    "    optimizer = HPO.IterativeRandomOptimization(HPO.Dataset([],[]), function, hyperparameterspace, BUDGET, 0, adaptivity, init_points=INIT_POINTS, alternative=1)\n",
    "    points = optimizer.fit()\n",
    "    points.sort(key=operator.attrgetter('value'))\n",
    "    print(\"best point:\", points[0].get_coordinates(), \"value\", points[0].get_value())\n",
    "\n",
    "    visualize(points, adaptivity, 1)\n",
    "\n",
    "    reset_seeds()\n",
    "\n",
    "    optimizer = HPO.IterativeRandomOptimization(HPO.Dataset([],[]), function, hyperparameterspace, BUDGET, 0, adaptivity, init_points=INIT_POINTS, alternative=2)\n",
    "    points = optimizer.fit()\n",
    "    points.sort(key=operator.attrgetter('value'))\n",
    "    print(\"best point:\", points[0].get_coordinates(), \"value\", points[0].get_value())\n",
    "\n",
    "    visualize(points, adaptivity, 2)\n",
    "\n",
    "\n"
   ]
  }
 ],
 "metadata": {
  "kernelspec": {
   "display_name": "Python 3 (ipykernel)",
   "language": "python",
   "name": "python3"
  },
  "language_info": {
   "codemirror_mode": {
    "name": "ipython",
    "version": 3
   },
   "file_extension": ".py",
   "mimetype": "text/x-python",
   "name": "python",
   "nbconvert_exporter": "python",
   "pygments_lexer": "ipython3",
   "version": "3.10.6"
  },
  "vscode": {
   "interpreter": {
    "hash": "e7370f93d1d0cde622a1f8e1c04877d8463912d04d973331ad4851f04de6915a"
   }
  }
 },
 "nbformat": 4,
 "nbformat_minor": 2
}
