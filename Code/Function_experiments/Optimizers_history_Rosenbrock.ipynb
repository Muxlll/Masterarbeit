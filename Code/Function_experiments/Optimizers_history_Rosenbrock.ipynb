{
 "cells": [
  {
   "attachments": {},
   "cell_type": "markdown",
   "metadata": {},
   "source": [
    "### Baseline experiment\n",
    "\n",
    "Experiment to compare the 4 Optimization algorithms before trying to improve sparse search"
   ]
  },
  {
   "cell_type": "code",
   "execution_count": 1,
   "metadata": {},
   "outputs": [
    {
     "name": "stderr",
     "output_type": "stream",
     "text": [
      "2023-06-01 10:45:18.350320: I tensorflow/core/platform/cpu_feature_guard.cc:182] This TensorFlow binary is optimized to use available CPU instructions in performance-critical operations.\n",
      "To enable the following instructions: AVX2 FMA, in other operations, rebuild TensorFlow with the appropriate compiler flags.\n",
      "2023-06-01 10:45:19.449279: W tensorflow/compiler/tf2tensorrt/utils/py_utils.cc:38] TF-TRT Warning: Could not find TensorRT\n"
     ]
    }
   ],
   "source": [
    "import sys  \n",
    "sys.path.insert(0, '../')\n",
    "\n",
    "import HPO\n",
    "import pysgpp\n",
    "import matplotlib.pyplot as plt\n",
    "import tensorflow as tf\n",
    "import sklearn.metrics\n",
    "from sklearn.model_selection import KFold\n",
    "import numpy as np\n",
    "import keras\n",
    "from keras import backend as K\n",
    "from tensorflow.keras.models import Sequential\n",
    "from tensorflow.keras.layers import Dense\n",
    "from scikeras.wrappers import KerasRegressor\n",
    "from sklearn.compose import ColumnTransformer\n",
    "from sklearn.compose import TransformedTargetRegressor\n",
    "from sklearn.pipeline import Pipeline\n",
    "from sklearn.impute import SimpleImputer\n",
    "from sklearn.feature_selection import SelectPercentile, chi2\n",
    "from sklearn.preprocessing import OneHotEncoder, StandardScaler\n",
    "from numpy.random import seed\n",
    "import random\n",
    "import time\n",
    "import os\n",
    "import math\n",
    "from matplotlib import cm\n",
    "import matplotlib \n",
    "\n",
    "matplotlib.use(\"pgf\")\n",
    "matplotlib.rcParams.update({\n",
    "    \"pgf.texsystem\": \"pdflatex\",\n",
    "    'font.family': 'serif',\n",
    "    'text.usetex': True,\n",
    "    'pgf.rcfonts': False,\n",
    "})\n",
    "\n",
    "random.seed(1)\n",
    "seed(2)\n",
    "tf.random.set_seed(3)\n",
    "\n",
    "def reset_seeds():\n",
    "    np.random.seed(1)\n",
    "    random.seed(2)\n",
    "    tf.random.set_seed(3)\n",
    "\n",
    "VERBOSE = 0\n",
    "\n",
    "SPARSE_RESULT = []\n",
    "SPARSE_RESULT_OPTIMIZED = []\n",
    "\n",
    "SPARSE_COST = []\n",
    "SPARSE_COST_OPTIMIZED = []"
   ]
  },
  {
   "attachments": {},
   "cell_type": "markdown",
   "metadata": {},
   "source": [
    "### Model creation function"
   ]
  },
  {
   "cell_type": "code",
   "execution_count": 2,
   "metadata": {},
   "outputs": [],
   "source": [
    "def create_model(learning_rate=0.0001, input_dim=10, number_layers=1, neurons_per_layer=20):\n",
    "    # create model\n",
    "    model = Sequential()\n",
    "\n",
    "    model.add(Dense(neurons_per_layer, input_shape=(input_dim,), activation='relu'))\n",
    "    for _ in range(number_layers):\n",
    "        model.add(Dense(neurons_per_layer, activation='relu'))\n",
    "    model.add(Dense(1, activation=None))\n",
    "\n",
    "    optimizer = keras.optimizers.Adam(learning_rate=learning_rate)\n",
    "\n",
    "    model.compile(loss='mean_squared_error', optimizer=optimizer)\n",
    "    return model\n"
   ]
  },
  {
   "attachments": {},
   "cell_type": "markdown",
   "metadata": {},
   "source": [
    "### Hyperparameter space"
   ]
  },
  {
   "cell_type": "code",
   "execution_count": 3,
   "metadata": {},
   "outputs": [],
   "source": [
    "hyperparameterspace = {\n",
    "    'x0': [\"interval\", -5, 10],\n",
    "    'x1': [\"interval\", -5, 10],\n",
    "    #'learning_rate': [\"interval-log\", 0.000000001, 0.1],\n",
    "    #'number_layers': [\"interval-int\", 1, 20],\n",
    "    #'neurons_per_layer': [\"interval-int\", 1, 50]\n",
    "}\n",
    "\n",
    "hyperparameterspace_special = {}\n",
    "for key in hyperparameterspace.keys():\n",
    "    liste = []\n",
    "    for i in range(1, len(hyperparameterspace[key])):\n",
    "        liste.append(hyperparameterspace[key][i])\n",
    "    hyperparameterspace_special[key] = liste"
   ]
  },
  {
   "attachments": {},
   "cell_type": "markdown",
   "metadata": {},
   "source": [
    "### Optimization"
   ]
  },
  {
   "cell_type": "code",
   "execution_count": 4,
   "metadata": {},
   "outputs": [
    {
     "name": "stdout",
     "output_type": "stream",
     "text": [
      "Adaptive grid generation (Ritter-Novak)...\n",
      "Done in 0ms.\n",
      "Solving linear system (automatic method)...\n",
      "Done in 0ms.\n"
     ]
    },
    {
     "name": "stderr",
     "output_type": "stream",
     "text": [
      "/home/maxi/Repos/Masterarbeit/Code/Function_experiments/../HPO.py:869: RuntimeWarning: invalid value encountered in log10\n",
      "  Z[i][j] = np.log10(ft.eval(vec))\n"
     ]
    },
    {
     "name": "stdout",
     "output_type": "stream",
     "text": [
      "Optimizing (gradient descent)...\n",
      "Done in 0ms.\n",
      "####  Local optimal point:\n",
      "-5.0\n",
      "2.5\n",
      "Optimal point evaluated: 51.25\n",
      "Optimal point interpolated: 23.125\n",
      "Optimizing (multi-start)...\n",
      "####  Global optimal point:\n",
      "-4.979676512288949\n",
      "-4.9650934120982955\n",
      "Done in 0ms.\n",
      "Optimal point evaluated: 49.77030539895206\n",
      "Optimal point interpolated: -6.033682203850038\n"
     ]
    },
    {
     "name": "stderr",
     "output_type": "stream",
     "text": [
      "/home/maxi/Repos/Masterarbeit/Code/Function_experiments/../HPO.py:1029: UserWarning: Matplotlib is currently using pgf, which is a non-GUI backend, so cannot show the figure.\n",
      "  plt.show()\n"
     ]
    },
    {
     "name": "stdout",
     "output_type": "stream",
     "text": [
      "Adaptive grid generation (Ritter-Novak)...\n",
      "Done in 1ms.\n",
      "Solving linear system (automatic method)...\n",
      "Done in 0ms.\n",
      "Optimizing (gradient descent)...\n",
      "####  Local optimal point:\n",
      "-1.25\n",
      "-1.015625\n",
      "Done in 0ms.\n",
      "Optimal point evaluated: 12.642146873903027\n",
      "Optimal point interpolated: 12.642146873903027\n",
      "Optimizing (multi-start)...\n",
      "####  Global optimal point:\n",
      "0.1563753412990314\n",
      "-1.0121456651555722\n",
      "Done in 1ms.\n",
      "Optimal point evaluated: 5.52884426001051\n",
      "Optimal point interpolated: 5.625493074488649\n",
      "Adaptive grid generation (Ritter-Novak)...\n",
      "Done in 34ms.\n",
      "Solving linear system (automatic method)...\n",
      "Done in 1603ms.\n",
      "Optimizing (gradient descent)...\n",
      "####  Local optimal point:\n",
      "-1.98974609375\n",
      "-0.99365234375\n",
      "Optimal point evaluated: 4.975134049663653\n",
      "Optimal point interpolated: 4.975134049661977\n",
      "Done in 1ms.\n",
      "Optimizing (multi-start)...\n",
      "####  Global optimal point:\n",
      "0.0021693139963199215\n",
      "-0.013018916006060977\n",
      "Optimal point evaluated: 0.03454085848229482\n",
      "Optimal point interpolated: 0.15058802176780844\n",
      "Done in 13ms.\n"
     ]
    }
   ],
   "source": [
    "\n",
    "################## MODEL AND FUNCTION DEFINITION ####################\n",
    "CV = 2\n",
    "dataset = HPO.Dataset(task_id=233211)\n",
    "\n",
    "def evaluate_model(epochs, batch_size, learning_rate, number_of_layers, neurons_per_layer, deterministic=True):\n",
    "    ################# RASTRIGIN #################\n",
    "    sum = 0\n",
    "    sum += epochs ** 2 - 10 * math.cos(2 * math.pi * epochs)\n",
    "    sum += batch_size ** 2 - 10 * math.cos(2 * math.pi * batch_size)\n",
    "    # sum += learning_rate ** 2 - 10 * math.cos(2 * math.pi * learning_rate)\n",
    "    # sum += number_of_layers ** 2 - 10 * math.cos(2 * math.pi * number_of_layers)\n",
    "    # sum += neurons_per_layer ** 2 - 10 * math.cos(2 * math.pi * neurons_per_layer)\n",
    "    return len(hyperparameterspace) * 10 + sum\n",
    "\n",
    "\n",
    "class ExampleFunction(pysgpp.ScalarFunction):\n",
    "\n",
    "    def __init__(self):\n",
    "        super(ExampleFunction, self).__init__(\n",
    "            len(hyperparameterspace.keys()))\n",
    "\n",
    "    def eval(self, x):\n",
    "        # index = int(x[0]*(len(hyperparameterspace_special[\"loss\"])-1))\n",
    "        # hyperparameterspace_special[\"loss\"][index]\n",
    "\n",
    "        epochs = (HPO.from_standard(\n",
    "            hyperparameterspace_special[\"x0\"][0], hyperparameterspace_special[\"x0\"][1], x[0]))\n",
    "\n",
    "        batch_size = (HPO.from_standard(\n",
    "            hyperparameterspace_special[\"x1\"][0], hyperparameterspace_special[\"x1\"][1], x[1]))\n",
    "\n",
    "        # HPO.from_standard_log(hyperparameterspace_special[\"learning_rate\"][\n",
    "        model_learning_rate = 0\n",
    "        #                  0], hyperparameterspace_special[\"learning_rate\"][1], x[2])\n",
    "\n",
    "        number_of_layers = 0  # int(HPO.from_standard(\n",
    "        # hyperparameterspace_special[\"number_layers\"][0], hyperparameterspace_special[\"number_layers\"][1], x[3]))\n",
    "\n",
    "        neurons_per_layer = 0  # int(HPO.from_standard(\n",
    "        # hyperparameterspace_special[\"neurons_per_layer\"][0], hyperparameterspace_special[\"neurons_per_layer\"][1], x[4]))\n",
    "\n",
    "        return evaluate_model(epochs, batch_size, model_learning_rate, number_of_layers, neurons_per_layer)\n",
    "\n",
    "BUDGETS = [5, 80, 1000]\n",
    "\n",
    "\n",
    "for budget in BUDGETS:\n",
    "\n",
    "    optimizer = HPO.SparseGridSearchOptimization(dataset, ExampleFunction(), hyperparameterspace, budget, verbosity=0, degree=2, adaptivity=0.85)\n",
    "    optimizer.fit()\n",
    "    \n"
   ]
  }
 ],
 "metadata": {
  "kernelspec": {
   "display_name": "Python 3 (ipykernel)",
   "language": "python",
   "name": "python3"
  },
  "language_info": {
   "codemirror_mode": {
    "name": "ipython",
    "version": 3
   },
   "file_extension": ".py",
   "mimetype": "text/x-python",
   "name": "python",
   "nbconvert_exporter": "python",
   "pygments_lexer": "ipython3",
   "version": "3.10.6"
  },
  "vscode": {
   "interpreter": {
    "hash": "e7370f93d1d0cde622a1f8e1c04877d8463912d04d973331ad4851f04de6915a"
   }
  }
 },
 "nbformat": 4,
 "nbformat_minor": 2
}
