{
 "cells": [
  {
   "attachments": {},
   "cell_type": "markdown",
   "metadata": {},
   "source": [
    "### Numerical Experiments\n",
    "\n",
    "6 openml datasets with ids [31, 1464, 334, 333, 1504]\n",
    "all four optimizers are compared"
   ]
  },
  {
   "cell_type": "code",
   "execution_count": 1,
   "metadata": {},
   "outputs": [
    {
     "name": "stderr",
     "output_type": "stream",
     "text": [
      "2023-04-05 12:27:03.732649: I tensorflow/core/platform/cpu_feature_guard.cc:193] This TensorFlow binary is optimized with oneAPI Deep Neural Network Library (oneDNN) to use the following CPU instructions in performance-critical operations:  AVX2 FMA\n",
      "To enable them in other operations, rebuild TensorFlow with the appropriate compiler flags.\n",
      "2023-04-05 12:27:05.261562: W tensorflow/compiler/xla/stream_executor/platform/default/dso_loader.cc:64] Could not load dynamic library 'libnvinfer.so.7'; dlerror: libnvinfer.so.7: cannot open shared object file: No such file or directory; LD_LIBRARY_PATH: /home/maxi/Repos/SGpp/lib:\n",
      "2023-04-05 12:27:05.262088: W tensorflow/compiler/xla/stream_executor/platform/default/dso_loader.cc:64] Could not load dynamic library 'libnvinfer_plugin.so.7'; dlerror: libnvinfer_plugin.so.7: cannot open shared object file: No such file or directory; LD_LIBRARY_PATH: /home/maxi/Repos/SGpp/lib:\n",
      "2023-04-05 12:27:05.262108: W tensorflow/compiler/tf2tensorrt/utils/py_utils.cc:38] TF-TRT Warning: Cannot dlopen some TensorRT libraries. If you would like to use Nvidia GPU with TensorRT, please make sure the missing libraries mentioned above are installed properly.\n"
     ]
    }
   ],
   "source": [
    "import openml\n",
    "\n",
    "from openml import tasks\n",
    "\n",
    "import HPO\n",
    "\n",
    "import pysgpp\n",
    "\n",
    "import sys\n",
    "\n",
    "import math\n",
    "import matplotlib.pyplot as plt\n",
    "import torch\n",
    "import torch.nn as nn\n",
    "import torch.nn.functional as F\n",
    "import torch.optim as optim\n",
    "\n",
    "import sklearn.metrics\n",
    "\n",
    "from sklearn.model_selection import cross_val_score\n",
    "\n",
    "import numpy as np\n",
    "import keras\n",
    "\n",
    "from tensorflow.keras.models import Sequential\n",
    "from tensorflow.keras.layers import Dense\n",
    "from scikeras.wrappers import KerasRegressor, KerasClassifier\n",
    "\n",
    "\n",
    "def to_standard(lower, upper, value):\n",
    "    return (value-lower)/(upper-lower)\n",
    "\n",
    "\n",
    "def from_standard(lower, upper, value):\n",
    "    return value*(upper-lower)+lower\n",
    "\n",
    "BUDGET = 40\n",
    "VERBOSE = 0\n",
    "CV = 2\n",
    "SCORING = 'neg_mean_squared_error'\n",
    "TESTING = False\n",
    "\n",
    "ITER = 2\n",
    "\n",
    "BUDGETS = [i*10 for i in range(1, ITER+1)]\n",
    "\n",
    "DATASETS = []\n",
    "\n",
    "GRID_RESULT = []\n",
    "RANDOM_RESULT = []\n",
    "BAYESIAN_RESULT = []\n",
    "SPARSE_RESULT = []\n",
    "SPARSE_RESULT_OPTIMIZED = []\n",
    "\n",
    "GRID_COST = []\n",
    "RANDOM_COST = []\n",
    "BAYESIAN_COST = []\n",
    "SPARSE_COST = []\n",
    "SPARSE_COST_OPTIMIZED = []"
   ]
  },
  {
   "cell_type": "code",
   "execution_count": 2,
   "metadata": {},
   "outputs": [],
   "source": [
    "hyperparameterspace = {\n",
    "    #'loss': [\"list\", 'binary_crossentropy', 'categorical_crossentropy', 'binary_crossentropy', 'mean_absolute_error'],\n",
    "    'loss': [\"list\", 'mean_absolute_error', 'mean_squared_error'],\n",
    "    'epochs': [\"interval-int\", 1, 50]\n",
    "}"
   ]
  },
  {
   "cell_type": "code",
   "execution_count": 3,
   "metadata": {},
   "outputs": [
    {
     "name": "stdout",
     "output_type": "stream",
     "text": [
      "Current dataset: 0 of 15 with name: diamonds\n"
     ]
    },
    {
     "name": "stderr",
     "output_type": "stream",
     "text": [
      "2023-04-05 12:27:07.922171: E tensorflow/compiler/xla/stream_executor/cuda/cuda_driver.cc:267] failed call to cuInit: CUDA_ERROR_NO_DEVICE: no CUDA-capable device is detected\n",
      "2023-04-05 12:27:07.922220: I tensorflow/compiler/xla/stream_executor/cuda/cuda_diagnostics.cc:156] kernel driver does not appear to be running on this host (maxi-XPS-15-9560): /proc/driver/nvidia/version does not exist\n",
      "2023-04-05 12:27:07.923083: I tensorflow/core/platform/cpu_feature_guard.cc:193] This TensorFlow binary is optimized with oneAPI Deep Neural Network Library (oneDNN) to use the following CPU instructions in performance-critical operations:  AVX2 FMA\n",
      "To enable them in other operations, rebuild TensorFlow with the appropriate compiler flags.\n",
      "/home/maxi/.local/lib/python3.10/site-packages/sklearn/gaussian_process/_gpr.py:629: ConvergenceWarning: lbfgs failed to converge (status=2):\n",
      "ABNORMAL_TERMINATION_IN_LNSRCH.\n",
      "\n",
      "Increase the number of iterations (max_iter) or scale the data as shown in:\n",
      "    https://scikit-learn.org/stable/modules/preprocessing.html\n",
      "  _check_optimize_result(\"lbfgs\", opt_res)\n"
     ]
    },
    {
     "name": "stdout",
     "output_type": "stream",
     "text": [
      "Iterations took 99.67513074099986 seconds\n",
      "Test set is being used\n",
      "Adaptive grid generation (Ritter-Novak)...\n",
      "Done in 246748ms.\n",
      "Solving linear system (automatic method)...\n",
      "Done in 0ms.\n",
      "Optimizing (gradient descent)...\n",
      "Done in 0ms.\n",
      "Current dataset: 1 of 15 with name: us_crime\n",
      "NaN detected, skipping dataset\n",
      "Current dataset: 2 of 15 with name: space_ga\n"
     ]
    },
    {
     "name": "stderr",
     "output_type": "stream",
     "text": [
      "/home/maxi/.local/lib/python3.10/site-packages/sklearn/gaussian_process/kernels.py:420: ConvergenceWarning: The optimal value found for dimension 0 of parameter length_scale is close to the specified lower bound 1e-05. Decreasing the bound and calling fit again may find a better value.\n",
      "  warnings.warn(\n",
      "/home/maxi/.local/lib/python3.10/site-packages/sklearn/gaussian_process/kernels.py:420: ConvergenceWarning: The optimal value found for dimension 0 of parameter length_scale is close to the specified lower bound 1e-05. Decreasing the bound and calling fit again may find a better value.\n",
      "  warnings.warn(\n",
      "/home/maxi/.local/lib/python3.10/site-packages/sklearn/gaussian_process/kernels.py:420: ConvergenceWarning: The optimal value found for dimension 0 of parameter length_scale is close to the specified lower bound 1e-05. Decreasing the bound and calling fit again may find a better value.\n",
      "  warnings.warn(\n"
     ]
    },
    {
     "name": "stdout",
     "output_type": "stream",
     "text": [
      "Iterations took 138.05138532999945 seconds\n",
      "Test set is being used\n",
      "Adaptive grid generation (Ritter-Novak)...\n",
      "Done in 228759ms.\n",
      "Solving linear system (automatic method)...\n",
      "Done in 0ms.\n",
      "Optimizing (gradient descent)...\n",
      "Done in 0ms.\n",
      "Current dataset: 3 of 15 with name: wine_quality\n"
     ]
    },
    {
     "name": "stderr",
     "output_type": "stream",
     "text": [
      "/home/maxi/.local/lib/python3.10/site-packages/sklearn/gaussian_process/kernels.py:420: ConvergenceWarning: The optimal value found for dimension 0 of parameter length_scale is close to the specified lower bound 1e-05. Decreasing the bound and calling fit again may find a better value.\n",
      "  warnings.warn(\n",
      "/home/maxi/.local/lib/python3.10/site-packages/sklearn/gaussian_process/kernels.py:420: ConvergenceWarning: The optimal value found for dimension 0 of parameter length_scale is close to the specified lower bound 1e-05. Decreasing the bound and calling fit again may find a better value.\n",
      "  warnings.warn(\n"
     ]
    },
    {
     "name": "stdout",
     "output_type": "stream",
     "text": [
      "Iterations took 114.53654135500051 seconds\n",
      "Test set is being used\n",
      "Adaptive grid generation (Ritter-Novak)...\n",
      "Done in 210872ms.\n",
      "Solving linear system (automatic method)...\n",
      "Done in 0ms.\n",
      "Optimizing (gradient descent)...\n",
      "Done in 0ms.\n",
      "Current dataset: 4 of 15 with name: house_16H\n",
      "Iterations took 126.63044476799996 seconds\n",
      "Test set is being used\n",
      "Adaptive grid generation (Ritter-Novak)...\n",
      "Done in 229531ms.\n",
      "Solving linear system (automatic method)...\n",
      "Done in 0ms.\n",
      "Optimizing (gradient descent)...\n",
      "Done in 0ms.\n",
      "Current dataset: 5 of 15 with name: yprop_4_1\n"
     ]
    },
    {
     "name": "stderr",
     "output_type": "stream",
     "text": [
      "/home/maxi/.local/lib/python3.10/site-packages/sklearn/gaussian_process/kernels.py:420: ConvergenceWarning: The optimal value found for dimension 0 of parameter length_scale is close to the specified lower bound 1e-05. Decreasing the bound and calling fit again may find a better value.\n",
      "  warnings.warn(\n"
     ]
    },
    {
     "name": "stdout",
     "output_type": "stream",
     "text": [
      "Iterations took 106.43247259999907 seconds\n",
      "Test set is being used\n",
      "Adaptive grid generation (Ritter-Novak)...\n",
      "Done in 211670ms.\n",
      "Solving linear system (automatic method)...\n",
      "Done in 0ms.\n",
      "Optimizing (gradient descent)...\n",
      "Done in 0ms.\n",
      "Current dataset: 6 of 15 with name: sensory\n",
      "WARNING:tensorflow:5 out of the last 14 calls to <function Model.make_predict_function.<locals>.predict_function at 0x7f1e0129f2e0> triggered tf.function retracing. Tracing is expensive and the excessive number of tracings could be due to (1) creating @tf.function repeatedly in a loop, (2) passing tensors with different shapes, (3) passing Python objects instead of tensors. For (1), please define your @tf.function outside of the loop. For (2), @tf.function has reduce_retracing=True option that can avoid unnecessary retracing. For (3), please refer to https://www.tensorflow.org/guide/function#controlling_retracing and https://www.tensorflow.org/api_docs/python/tf/function for  more details.\n"
     ]
    },
    {
     "name": "stderr",
     "output_type": "stream",
     "text": [
      "WARNING:tensorflow:5 out of the last 14 calls to <function Model.make_predict_function.<locals>.predict_function at 0x7f1e0129f2e0> triggered tf.function retracing. Tracing is expensive and the excessive number of tracings could be due to (1) creating @tf.function repeatedly in a loop, (2) passing tensors with different shapes, (3) passing Python objects instead of tensors. For (1), please define your @tf.function outside of the loop. For (2), @tf.function has reduce_retracing=True option that can avoid unnecessary retracing. For (3), please refer to https://www.tensorflow.org/guide/function#controlling_retracing and https://www.tensorflow.org/api_docs/python/tf/function for  more details.\n"
     ]
    },
    {
     "name": "stdout",
     "output_type": "stream",
     "text": [
      "WARNING:tensorflow:5 out of the last 13 calls to <function Model.make_predict_function.<locals>.predict_function at 0x7f1e00b6c310> triggered tf.function retracing. Tracing is expensive and the excessive number of tracings could be due to (1) creating @tf.function repeatedly in a loop, (2) passing tensors with different shapes, (3) passing Python objects instead of tensors. For (1), please define your @tf.function outside of the loop. For (2), @tf.function has reduce_retracing=True option that can avoid unnecessary retracing. For (3), please refer to https://www.tensorflow.org/guide/function#controlling_retracing and https://www.tensorflow.org/api_docs/python/tf/function for  more details.\n"
     ]
    },
    {
     "name": "stderr",
     "output_type": "stream",
     "text": [
      "WARNING:tensorflow:5 out of the last 13 calls to <function Model.make_predict_function.<locals>.predict_function at 0x7f1e00b6c310> triggered tf.function retracing. Tracing is expensive and the excessive number of tracings could be due to (1) creating @tf.function repeatedly in a loop, (2) passing tensors with different shapes, (3) passing Python objects instead of tensors. For (1), please define your @tf.function outside of the loop. For (2), @tf.function has reduce_retracing=True option that can avoid unnecessary retracing. For (3), please refer to https://www.tensorflow.org/guide/function#controlling_retracing and https://www.tensorflow.org/api_docs/python/tf/function for  more details.\n"
     ]
    },
    {
     "name": "stdout",
     "output_type": "stream",
     "text": [
      "Iterations took 117.32620356799862 seconds\n",
      "Test set is being used\n",
      "Adaptive grid generation (Ritter-Novak)...\n",
      "Done in 168219ms.\n",
      "Solving linear system (automatic method)...\n",
      "Done in 0ms.\n",
      "Optimizing (gradient descent)...\n",
      "Done in 0ms.\n",
      "Current dataset: 7 of 15 with name: Santander_transaction_value\n"
     ]
    },
    {
     "name": "stderr",
     "output_type": "stream",
     "text": [
      "/home/maxi/.local/lib/python3.10/site-packages/sklearn/gaussian_process/kernels.py:420: ConvergenceWarning: The optimal value found for dimension 0 of parameter length_scale is close to the specified lower bound 1e-05. Decreasing the bound and calling fit again may find a better value.\n",
      "  warnings.warn(\n",
      "/home/maxi/.local/lib/python3.10/site-packages/sklearn/gaussian_process/kernels.py:420: ConvergenceWarning: The optimal value found for dimension 0 of parameter length_scale is close to the specified lower bound 1e-05. Decreasing the bound and calling fit again may find a better value.\n",
      "  warnings.warn(\n",
      "/home/maxi/.local/lib/python3.10/site-packages/sklearn/gaussian_process/kernels.py:420: ConvergenceWarning: The optimal value found for dimension 0 of parameter length_scale is close to the specified lower bound 1e-05. Decreasing the bound and calling fit again may find a better value.\n",
      "  warnings.warn(\n",
      "/home/maxi/.local/lib/python3.10/site-packages/sklearn/gaussian_process/kernels.py:420: ConvergenceWarning: The optimal value found for dimension 0 of parameter length_scale is close to the specified lower bound 1e-05. Decreasing the bound and calling fit again may find a better value.\n",
      "  warnings.warn(\n",
      "/home/maxi/.local/lib/python3.10/site-packages/sklearn/gaussian_process/kernels.py:420: ConvergenceWarning: The optimal value found for dimension 0 of parameter length_scale is close to the specified lower bound 1e-05. Decreasing the bound and calling fit again may find a better value.\n",
      "  warnings.warn(\n"
     ]
    },
    {
     "name": "stdout",
     "output_type": "stream",
     "text": [
      "Iterations took 89.24149889299997 seconds\n",
      "Test set is being used\n",
      "Adaptive grid generation (Ritter-Novak)...\n",
      "Done in 472648ms.\n",
      "Solving linear system (automatic method)...\n",
      "Done in 0ms.\n",
      "Optimizing (gradient descent)...\n",
      "Done in 0ms.\n",
      "Current dataset: 8 of 15 with name: Yolanda\n"
     ]
    },
    {
     "name": "stderr",
     "output_type": "stream",
     "text": [
      "/home/maxi/.local/lib/python3.10/site-packages/sklearn/gaussian_process/kernels.py:420: ConvergenceWarning: The optimal value found for dimension 0 of parameter length_scale is close to the specified lower bound 1e-05. Decreasing the bound and calling fit again may find a better value.\n",
      "  warnings.warn(\n",
      "/home/maxi/.local/lib/python3.10/site-packages/sklearn/gaussian_process/kernels.py:420: ConvergenceWarning: The optimal value found for dimension 0 of parameter length_scale is close to the specified lower bound 1e-05. Decreasing the bound and calling fit again may find a better value.\n",
      "  warnings.warn(\n"
     ]
    },
    {
     "name": "stdout",
     "output_type": "stream",
     "text": [
      "Iterations took 128.41908272499677 seconds\n",
      "Test set is being used\n",
      "Adaptive grid generation (Ritter-Novak)...\n",
      "Done in 218742ms.\n",
      "Solving linear system (automatic method)...\n",
      "Done in 0ms.\n",
      "Optimizing (gradient descent)...\n",
      "Done in 0ms.\n",
      "Current dataset: 9 of 15 with name: house_sales\n"
     ]
    },
    {
     "name": "stderr",
     "output_type": "stream",
     "text": [
      "/home/maxi/.local/lib/python3.10/site-packages/sklearn/gaussian_process/kernels.py:420: ConvergenceWarning: The optimal value found for dimension 0 of parameter length_scale is close to the specified lower bound 1e-05. Decreasing the bound and calling fit again may find a better value.\n",
      "  warnings.warn(\n",
      "/home/maxi/.local/lib/python3.10/site-packages/sklearn/gaussian_process/kernels.py:420: ConvergenceWarning: The optimal value found for dimension 0 of parameter length_scale is close to the specified lower bound 1e-05. Decreasing the bound and calling fit again may find a better value.\n",
      "  warnings.warn(\n",
      "/home/maxi/.local/lib/python3.10/site-packages/sklearn/gaussian_process/kernels.py:420: ConvergenceWarning: The optimal value found for dimension 0 of parameter length_scale is close to the specified lower bound 1e-05. Decreasing the bound and calling fit again may find a better value.\n",
      "  warnings.warn(\n"
     ]
    },
    {
     "name": "stdout",
     "output_type": "stream",
     "text": [
      "Iterations took 116.58648216699748 seconds\n",
      "Test set is being used\n",
      "Adaptive grid generation (Ritter-Novak)...\n",
      "Done in 266124ms.\n",
      "Solving linear system (automatic method)...\n",
      "Done in 0ms.\n",
      "Optimizing (gradient descent)...\n",
      "Done in 0ms.\n",
      "Current dataset: 10 of 15 with name: tecator\n",
      "Iterations took 137.60848118100148 seconds\n",
      "Test set is being used\n",
      "Adaptive grid generation (Ritter-Novak)...\n",
      "Done in 124323ms.\n",
      "Solving linear system (automatic method)...\n",
      "Done in 0ms.\n",
      "Optimizing (gradient descent)...\n",
      "Done in 0ms.\n",
      "Current dataset: 11 of 15 with name: pol\n",
      "Iterations took 120.77952181799901 seconds\n",
      "Test set is being used\n",
      "Adaptive grid generation (Ritter-Novak)...\n",
      "Done in 255070ms.\n",
      "Solving linear system (automatic method)...\n",
      "Done in 0ms.\n",
      "Optimizing (gradient descent)...\n",
      "Done in 0ms.\n",
      "Current dataset: 12 of 15 with name: Brazilian_houses\n"
     ]
    },
    {
     "name": "stderr",
     "output_type": "stream",
     "text": [
      "/home/maxi/.local/lib/python3.10/site-packages/sklearn/gaussian_process/kernels.py:420: ConvergenceWarning: The optimal value found for dimension 0 of parameter length_scale is close to the specified lower bound 1e-05. Decreasing the bound and calling fit again may find a better value.\n",
      "  warnings.warn(\n",
      "/home/maxi/.local/lib/python3.10/site-packages/sklearn/gaussian_process/kernels.py:420: ConvergenceWarning: The optimal value found for dimension 0 of parameter length_scale is close to the specified lower bound 1e-05. Decreasing the bound and calling fit again may find a better value.\n",
      "  warnings.warn(\n"
     ]
    },
    {
     "name": "stdout",
     "output_type": "stream",
     "text": [
      "Iterations took 152.84722704699834 seconds\n",
      "Test set is being used\n",
      "Adaptive grid generation (Ritter-Novak)...\n",
      "Done in 282764ms.\n",
      "Solving linear system (automatic method)...\n",
      "Done in 0ms.\n",
      "Optimizing (gradient descent)...\n",
      "Done in 0ms.\n",
      "Current dataset: 13 of 15 with name: socmob\n"
     ]
    },
    {
     "name": "stderr",
     "output_type": "stream",
     "text": [
      "/home/maxi/.local/lib/python3.10/site-packages/sklearn/gaussian_process/kernels.py:420: ConvergenceWarning: The optimal value found for dimension 0 of parameter length_scale is close to the specified lower bound 1e-05. Decreasing the bound and calling fit again may find a better value.\n",
      "  warnings.warn(\n",
      "/home/maxi/.local/lib/python3.10/site-packages/sklearn/gaussian_process/kernels.py:420: ConvergenceWarning: The optimal value found for dimension 0 of parameter length_scale is close to the specified lower bound 1e-05. Decreasing the bound and calling fit again may find a better value.\n",
      "  warnings.warn(\n",
      "/home/maxi/.local/lib/python3.10/site-packages/sklearn/gaussian_process/kernels.py:420: ConvergenceWarning: The optimal value found for dimension 0 of parameter length_scale is close to the specified lower bound 1e-05. Decreasing the bound and calling fit again may find a better value.\n",
      "  warnings.warn(\n"
     ]
    },
    {
     "name": "stdout",
     "output_type": "stream",
     "text": [
      "Iterations took 150.1892372109969 seconds\n",
      "Test set is being used\n",
      "Adaptive grid generation (Ritter-Novak)...\n",
      "Done in 276440ms.\n",
      "Solving linear system (automatic method)...\n",
      "Done in 0ms.\n",
      "Optimizing (gradient descent)...\n",
      "Done in 0ms.\n",
      "Current dataset: 14 of 15 with name: nyc-taxi-green-dec-2016\n"
     ]
    },
    {
     "name": "stderr",
     "output_type": "stream",
     "text": [
      "/home/maxi/.local/lib/python3.10/site-packages/sklearn/gaussian_process/kernels.py:420: ConvergenceWarning: The optimal value found for dimension 0 of parameter length_scale is close to the specified lower bound 1e-05. Decreasing the bound and calling fit again may find a better value.\n",
      "  warnings.warn(\n",
      "/home/maxi/.local/lib/python3.10/site-packages/sklearn/gaussian_process/kernels.py:420: ConvergenceWarning: The optimal value found for dimension 0 of parameter length_scale is close to the specified lower bound 1e-05. Decreasing the bound and calling fit again may find a better value.\n",
      "  warnings.warn(\n"
     ]
    },
    {
     "name": "stdout",
     "output_type": "stream",
     "text": [
      "Iterations took 132.51438904500174 seconds\n",
      "Test set is being used\n",
      "Adaptive grid generation (Ritter-Novak)...\n",
      "Done in 258304ms.\n",
      "Solving linear system (automatic method)...\n",
      "Done in 0ms.\n",
      "Optimizing (gradient descent)...\n",
      "Done in 0ms.\n"
     ]
    }
   ],
   "source": [
    "ids = [233211, 359945, 359933, 359935, 359952, 359940, 359931, 233214, 317614, 359949, 359934, 359946, 359938, 359932, 359943]\n",
    "\n",
    "valid_datasets = 0\n",
    "\n",
    "for i in range(len(ids)):\n",
    "    task = tasks.get_task(ids[i])\n",
    "    \n",
    "    # Get dataset by ID\n",
    "    dataset = task.get_dataset()\n",
    "\n",
    "    print(\"Current dataset:\", i, \"of\", len(ids), \"with name:\", dataset.name)\n",
    "\n",
    "    # Get the data itself as a dataframe (or otherwise)\n",
    "    data, target, _, _ = dataset.get_data(dataset.default_target_attribute, dataset_format=\"array\")\n",
    "    if np.isnan(data).any() or np.isnan(target).any():\n",
    "        print(\"NaN detected, skipping dataset\")\n",
    "        continue\n",
    "\n",
    "    X = torch.Tensor(data[:1000])\n",
    "    Y = torch.Tensor(target[:1000])\n",
    "    \n",
    "    #print(X)\n",
    "    #print(Y)\n",
    "\n",
    "    dataset = HPO.Dataset(X, Y)\n",
    "\n",
    "    ################## MODEL AND FUNCTION DEFINITION ####################\n",
    "\n",
    "    # Function to create model, required for KerasClassifier\n",
    "    def create_model(): \n",
    "        # create model\n",
    "        model = Sequential()\n",
    "        model.add(Dense(30, input_shape=(len(dataset.get_X()[0]),), activation='relu'))\n",
    "        model.add(Dense(20, activation='relu'))\n",
    "        model.add(Dense(30, activation='relu'))\n",
    "        model.add(Dense(1, activation=None))\n",
    "        # Compile model\n",
    "        #model.compile(loss=loss,\n",
    "        #              optimizer='adam', metrics=['mean_squared_error'])\n",
    "        return model\n",
    "\n",
    "\n",
    "    hyperparameterspace_special = {}\n",
    "    for key in hyperparameterspace.keys():\n",
    "        liste = []\n",
    "        for i in range(1, len(hyperparameterspace[key])):\n",
    "            liste.append(hyperparameterspace[key][i])\n",
    "        hyperparameterspace_special[key] = liste\n",
    "\n",
    "\n",
    "    def blackboxfunction(params):\n",
    "        index = int(params[0]*(len(hyperparameterspace_special[\"loss\"])-1))\n",
    "        loss = hyperparameterspace_special[\"loss\"][index]\n",
    "        \n",
    "        epochs = int(params[1])\n",
    "\n",
    "        # Function to create model, required for KerasClassifier\n",
    "        def create_model():\n",
    "            # create model\n",
    "            model = Sequential()\n",
    "            model.add(Dense(30, input_shape=(len(dataset.get_X()[0]),), activation='relu'))\n",
    "            model.add(Dense(20, activation='relu'))\n",
    "            model.add(Dense(30, activation='relu'))\n",
    "            model.add(Dense(1, activation=None))\n",
    "            # Compile model\n",
    "            model.compile(loss=loss, optimizer='adam', metrics=['mean_squared_error'])\n",
    "            return model\n",
    "\n",
    "        model = KerasRegressor(model=create_model, verbose=0)\n",
    "\n",
    "        model.fit(dataset.get_X_train(), dataset.get_Y_train(), epochs=epochs)\n",
    "\n",
    "        if TESTING:\n",
    "            print(\"Test set is being used\")\n",
    "            Y_predicted = model.predict(dataset.get_X_test())\n",
    "            return -sklearn.metrics.mean_squared_error(dataset.get_Y_test(), Y_predicted)\n",
    "        else:\n",
    "            Y_predicted = model.predict(dataset.get_X_validation())\n",
    "            return -sklearn.metrics.mean_squared_error(dataset.get_Y_validation(), Y_predicted)\n",
    "    \n",
    "\n",
    "    ##################### Function for sparse grid search #####################\n",
    "\n",
    "    class ExampleFunction(pysgpp.ScalarFunction):\n",
    "\n",
    "        def __init__(self):\n",
    "            super(ExampleFunction, self).__init__(2)\n",
    "\n",
    "\n",
    "        def eval(self, x):\n",
    "            index = int(x[0]*(len(hyperparameterspace_special[\"loss\"])-1))\n",
    "            loss = hyperparameterspace_special[\"loss\"][index]\n",
    "            epochs = int(from_standard(1, 400, x[1]))\n",
    "            \n",
    "            # Function to create model, required for KerasClassifier\n",
    "            def create_model():\n",
    "                # create model\n",
    "                model = Sequential()\n",
    "                model.add(Dense(30, input_shape=(len(dataset.get_X()[0]),), activation='relu'))\n",
    "                model.add(Dense(20, activation='relu'))\n",
    "                model.add(Dense(30, activation='relu'))\n",
    "                model.add(Dense(1, activation=None))\n",
    "                # Compile model\n",
    "                model.compile(loss=loss, optimizer='adam', metrics=['mean_squared_error'])\n",
    "                return model\n",
    "\n",
    "            model = KerasRegressor(model=create_model, verbose=0)\n",
    "\n",
    "            model.fit(dataset.get_X_train(), dataset.get_Y_train(), epochs=epochs)\n",
    "\n",
    "            if TESTING:\n",
    "                Y_predicted = model.predict(dataset.get_X_test())\n",
    "                return sklearn.metrics.mean_squared_error(dataset.get_Y_test().tolist(), Y_predicted)\n",
    "            else:\n",
    "                Y_predicted = model.predict(dataset.get_X_validation())\n",
    "                return sklearn.metrics.mean_squared_error(dataset.get_Y_validation().tolist(), Y_predicted)\n",
    "            \n",
    "\n",
    "    ############################# GRID SEARCH #######################\n",
    "\n",
    "    \n",
    "    model = KerasRegressor(model=create_model, verbose=0)\n",
    "\n",
    "    optimization = HPO.GridSearchOptimization(dataset, model, hyperparameterspace, budget=BUDGET, verbosity=VERBOSE, cv=CV)\n",
    "\n",
    "    result, cost = optimization.fit()\n",
    "\n",
    "    Y_predicted = result.predict(dataset.get_X_test())\n",
    "\n",
    "    GRID_RESULT.append(sklearn.metrics.mean_squared_error(dataset.get_Y_test(), Y_predicted))\n",
    "    GRID_COST.append(cost)\n",
    "\n",
    "    ########################### RANDOM SEARCH #######################\n",
    "    \n",
    "    model = KerasRegressor(model=create_model, verbose=0)\n",
    "\n",
    "    optimization = HPO.RandomSearchOptimization(dataset, model, hyperparameterspace, budget=BUDGET, verbosity=VERBOSE, cv=CV)\n",
    "\n",
    "    result, cost = optimization.fit()\n",
    "\n",
    "    Y_predicted = result.predict(dataset.get_X_test())\n",
    "\n",
    "    RANDOM_RESULT.append(sklearn.metrics.mean_squared_error(dataset.get_Y_test(), Y_predicted))\n",
    "    RANDOM_COST.append(cost)\n",
    "\n",
    "    ########################### BAYESIAN OPT ##################### \n",
    "    optimization = HPO.BayesianOptimization(dataset, blackboxfunction, hyperparameterspace, budget=BUDGET, verbosity=VERBOSE)\n",
    "\n",
    "\n",
    "    result = optimization.fit()\n",
    "    \n",
    "    index_best = 0\n",
    "    for i in range(len(result[1])):\n",
    "        if result[1][i] == max(result[1]):\n",
    "            index_best = i\n",
    "\n",
    "    best_score = result[1][index_best]\n",
    "    best_params = result[0][index_best]\n",
    "\n",
    "    TESTING = True\n",
    "    BAYESIAN_RESULT.append(-blackboxfunction(best_params))\n",
    "    TESTING = False\n",
    "\n",
    "    BAYESIAN_COST.append(BUDGET)\n",
    "\n",
    "\n",
    "    ########################### SPARSE OPT ############################\n",
    "    f = ExampleFunction()\n",
    "\n",
    "    optimization = HPO.SparseGridSearchOptimization(dataset, f, hyperparameterspace, budget=BUDGET, verbosity=VERBOSE, degree=2, adaptivity=0.9, optimizer=\"gradient_descent\")\n",
    "\n",
    "    result = optimization.fit()\n",
    "    \n",
    "\n",
    "    TESTING = True\n",
    "    SPARSE_RESULT.append(f.eval(result[0]))\n",
    "    SPARSE_RESULT_OPTIMIZED.append(f.eval(result[1]))\n",
    "    TESTING = False\n",
    "\n",
    "    SPARSE_COST.append(BUDGET)\n",
    "    SPARSE_COST_OPTIMIZED.append(BUDGET)\n",
    "\n",
    "\n",
    "\n",
    "    valid_datasets += 1\n",
    "    \n",
    "\n"
   ]
  },
  {
   "cell_type": "code",
   "execution_count": 6,
   "metadata": {},
   "outputs": [
    {
     "data": {
      "text/plain": [
       "<matplotlib.legend.Legend at 0x7f1dd8eeb3a0>"
      ]
     },
     "execution_count": 6,
     "metadata": {},
     "output_type": "execute_result"
    },
    {
     "data": {
      "image/png": "[encoded data removed]",
      "text/plain": [
       "<Figure size 640x480 with 1 Axes>"
      ]
     },
     "metadata": {},
     "output_type": "display_data"
    }
   ],
   "source": [
    "for i in range(len(ids)-1):\n",
    "    plt.plot(GRID_COST[i], GRID_RESULT[i], '+', color='black')\n",
    "    plt.plot(RANDOM_COST[i], RANDOM_RESULT[i], '+', color='red')\n",
    "    plt.plot(BAYESIAN_COST[i], BAYESIAN_RESULT[i], '+', color='blue')\n",
    "    plt.plot(SPARSE_COST[i], SPARSE_RESULT[i], '+', color='purple')\n",
    "    plt.plot(SPARSE_COST_OPTIMIZED[i], SPARSE_RESULT_OPTIMIZED[i], '+', color='pink')\n",
    "\n",
    "plt.xlabel(\"Cost\")\n",
    "plt.ylabel(\"Result (mean squared error)\")\n",
    "plt.legend([\"Grid search\", \"Random search\", \"Bayesian Opt\", \"Sparse search\", \"Sparse search (opt)\"])\n"
   ]
  }
 ],
 "metadata": {
  "kernelspec": {
   "display_name": "Python 3",
   "language": "python",
   "name": "python3"
  },
  "language_info": {
   "codemirror_mode": {
    "name": "ipython",
    "version": 3
   },
   "file_extension": ".py",
   "mimetype": "text/x-python",
   "name": "python",
   "nbconvert_exporter": "python",
   "pygments_lexer": "ipython3",
   "version": "3.10.6"
  },
  "vscode": {
   "interpreter": {
    "hash": "e7370f93d1d0cde622a1f8e1c04877d8463912d04d973331ad4851f04de6915a"
   }
  }
 },
 "nbformat": 4,
 "nbformat_minor": 2
}
