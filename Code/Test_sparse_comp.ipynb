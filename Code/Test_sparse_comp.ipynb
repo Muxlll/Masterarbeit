{
 "cells": [
  {
   "attachments": {},
   "cell_type": "markdown",
   "metadata": {},
   "source": [
    "### Numerical Experiments\n",
    "\n",
    "6 different datasets are used with ids [31, 1464, 334, 333, 1504]\n",
    "The different optimizers for sparse grid optimization are compared"
   ]
  },
  {
   "cell_type": "code",
   "execution_count": 1,
   "metadata": {},
   "outputs": [
    {
     "name": "stderr",
     "output_type": "stream",
     "text": [
      "2023-04-03 17:47:26.669085: I tensorflow/core/platform/cpu_feature_guard.cc:193] This TensorFlow binary is optimized with oneAPI Deep Neural Network Library (oneDNN) to use the following CPU instructions in performance-critical operations:  AVX2 FMA\n",
      "To enable them in other operations, rebuild TensorFlow with the appropriate compiler flags.\n",
      "2023-04-03 17:47:28.603672: W tensorflow/compiler/xla/stream_executor/platform/default/dso_loader.cc:64] Could not load dynamic library 'libnvinfer.so.7'; dlerror: libnvinfer.so.7: cannot open shared object file: No such file or directory; LD_LIBRARY_PATH: /home/maxi/Repos/SGpp/lib:\n",
      "2023-04-03 17:47:28.603899: W tensorflow/compiler/xla/stream_executor/platform/default/dso_loader.cc:64] Could not load dynamic library 'libnvinfer_plugin.so.7'; dlerror: libnvinfer_plugin.so.7: cannot open shared object file: No such file or directory; LD_LIBRARY_PATH: /home/maxi/Repos/SGpp/lib:\n",
      "2023-04-03 17:47:28.603907: W tensorflow/compiler/tf2tensorrt/utils/py_utils.cc:38] TF-TRT Warning: Cannot dlopen some TensorRT libraries. If you would like to use Nvidia GPU with TensorRT, please make sure the missing libraries mentioned above are installed properly.\n"
     ]
    }
   ],
   "source": [
    "import openml\n",
    "\n",
    "from openml import tasks\n",
    "\n",
    "import HPO\n",
    "\n",
    "import pysgpp\n",
    "\n",
    "import sys\n",
    "\n",
    "import math\n",
    "import matplotlib.pyplot as plt\n",
    "import torch\n",
    "import torch.nn as nn\n",
    "import torch.nn.functional as F\n",
    "import torch.optim as optim\n",
    "\n",
    "import sklearn.metrics\n",
    "\n",
    "from sklearn.model_selection import cross_val_score\n",
    "\n",
    "import numpy as np\n",
    "import keras\n",
    "\n",
    "from tensorflow.keras.models import Sequential\n",
    "from tensorflow.keras.layers import Dense\n",
    "from scikeras.wrappers import KerasRegressor, KerasClassifier\n",
    "\n",
    "\n",
    "def to_standard(lower, upper, value):\n",
    "    return (value-lower)/(upper-lower)\n",
    "\n",
    "\n",
    "def from_standard(lower, upper, value):\n",
    "    return value*(upper-lower)+lower\n",
    "\n",
    "BUDGET = 40\n",
    "VERBOSE = 0\n",
    "CV = 2\n",
    "SCORING = 'neg_mean_squared_error'\n",
    "TESTING = False\n",
    "\n",
    "DATASETS = []\n",
    "\n",
    "hyperparameterspace = {\n",
    "    'loss': [\"list\", 'binary_crossentropy', 'categorical_crossentropy', 'binary_crossentropy', 'mean_absolute_error'],\n",
    "    #'loss': [\"list\", 'mean_absolute_error', 'log_cosh'],\n",
    "    'epochs': [\"interval-int\", 1, 200]\n",
    "}\n",
    "\n",
    "hyperparameterspace_special = {}\n",
    "for key in hyperparameterspace.keys():\n",
    "    liste = []\n",
    "    for i in range(1, len(hyperparameterspace[key])):\n",
    "        liste.append(hyperparameterspace[key][i])\n",
    "    hyperparameterspace_special[key] = liste\n",
    "\n",
    "ids = [31, 1464, 334, 333, 1504]"
   ]
  },
  {
   "cell_type": "code",
   "execution_count": 2,
   "metadata": {},
   "outputs": [
    {
     "name": "stderr",
     "output_type": "stream",
     "text": [
      "/tmp/ipykernel_100249/2392459913.py:13: UserWarning: Creating a tensor from a list of numpy.ndarrays is extremely slow. Please consider converting the list to a single numpy.ndarray with numpy.array() before converting to a tensor. (Triggered internally at ../torch/csrc/utils/tensor_new.cpp:230.)\n",
      "  X = torch.Tensor([x[:-1] for x in data])\n"
     ]
    },
    {
     "name": "stdout",
     "output_type": "stream",
     "text": [
      "Current optimizer: 0 adaptive_gradient_descent\n",
      "Adaptive grid generation (Ritter-Novak)...\n"
     ]
    },
    {
     "name": "stderr",
     "output_type": "stream",
     "text": [
      "2023-04-03 17:47:31.205457: E tensorflow/compiler/xla/stream_executor/cuda/cuda_driver.cc:267] failed call to cuInit: CUDA_ERROR_NO_DEVICE: no CUDA-capable device is detected\n",
      "2023-04-03 17:47:31.205514: I tensorflow/compiler/xla/stream_executor/cuda/cuda_diagnostics.cc:156] kernel driver does not appear to be running on this host (maxi-XPS-15-9560): /proc/driver/nvidia/version does not exist\n",
      "2023-04-03 17:47:31.207323: I tensorflow/core/platform/cpu_feature_guard.cc:193] This TensorFlow binary is optimized with oneAPI Deep Neural Network Library (oneDNN) to use the following CPU instructions in performance-critical operations:  AVX2 FMA\n",
      "To enable them in other operations, rebuild TensorFlow with the appropriate compiler flags.\n"
     ]
    },
    {
     "name": "stdout",
     "output_type": "stream",
     "text": [
      "Done in 236125ms.\n",
      "Solving linear system (automatic method)...\n",
      "Done in 0ms.\n",
      "Optimizing (adaptive gradient descent)...\n",
      "Done in 1ms.\n",
      "Current optimizer: 1 adaptive_newton\n",
      "Adaptive grid generation (Ritter-Novak)...\n",
      "Done in 276297ms.\n",
      "Solving linear system (automatic method)...\n",
      "Done in 0ms.\n",
      "Optimizing (adaptive Newton)...\n",
      "Done in 0ms.\n",
      "Current optimizer: 2 bfgs\n",
      "Adaptive grid generation (Ritter-Novak)...\n"
     ]
    }
   ],
   "source": [
    "\n",
    "RESULTS_datasets = [[] for _ in range(len(ids))]\n",
    "\n",
    "for i in range(len(ids)):\n",
    "\n",
    "    DATASETS.append(str(ids[i]))\n",
    "    \n",
    "    # Get dataset by ID\n",
    "    dataset = openml.datasets.get_dataset(ids[i])\n",
    "\n",
    "    # Get the data itself as a dataframe (or otherwise)\n",
    "    data, _, _, _ = dataset.get_data(dataset_format=\"array\")\n",
    "\n",
    "    X = torch.Tensor([x[:-1] for x in data])\n",
    "    Y = torch.Tensor([[x[-1]] for x in data])\n",
    "    \n",
    "    dataset = HPO.Dataset(X, Y)\n",
    "\n",
    "    class ExampleFunction(pysgpp.ScalarFunction):\n",
    "\n",
    "        def __init__(self):\n",
    "            super(ExampleFunction, self).__init__(2)\n",
    "\n",
    "\n",
    "        def eval(self, x):\n",
    "            index = int(x[0]*(len(hyperparameterspace_special[\"loss\"])-1))\n",
    "            loss = hyperparameterspace_special[\"loss\"][index]\n",
    "            epochs = int(from_standard(1, 400, x[1]))\n",
    "            \n",
    "            # Function to create model, required for KerasClassifier\n",
    "            def create_model():\n",
    "                # create model\n",
    "                model = Sequential()\n",
    "                model.add(Dense(30, input_shape=(len(dataset.get_X()[0]),), activation='relu'))\n",
    "                model.add(Dense(20, activation='relu'))\n",
    "                model.add(Dense(30, activation='relu'))\n",
    "                model.add(Dense(len(dataset.get_Y()[0]), activation=None))\n",
    "                # Compile model\n",
    "                model.compile(loss=loss, optimizer='adam', metrics=['mean_squared_error'])\n",
    "                return model\n",
    "\n",
    "            model = KerasClassifier(model=create_model, verbose=0)\n",
    "\n",
    "            # scores = cross_val_score(model, dataset.get_X(), dataset.get_Y(), cv=CV, scoring=SCORING)\n",
    "\n",
    "            # return -scores.mean()\n",
    "\n",
    "            model.fit(dataset.get_X_train(), dataset.get_Y_train(), epochs=epochs)\n",
    "\n",
    "            if TESTING:\n",
    "                Y_predicted = model.predict(dataset.get_X_test())\n",
    "                if np.any(np.isnan(Y_predicted)):\n",
    "                    return 1000\n",
    "                return sklearn.metrics.mean_squared_error(dataset.get_Y_test().tolist(), Y_predicted)\n",
    "            else:\n",
    "                Y_predicted = model.predict(dataset.get_X_validation())\n",
    "                if np.any(np.isnan(Y_predicted)):\n",
    "                    return 1000\n",
    "                return sklearn.metrics.mean_squared_error(dataset.get_Y_validation().tolist(), Y_predicted)\n",
    "            \n",
    "\n",
    "    available_optimizers = [\"adaptive_gradient_descent\", \"adaptive_newton\", \"bfgs\", \"cmaes\", \"differential_evolution\", \"gradient_descent\", \"nlcg\", \"nelder_mead\", \"newton\", \"rprop\"]\n",
    "\n",
    "    results_temp = []\n",
    "    results_opt_temp = []\n",
    "\n",
    "    for j in range(len(available_optimizers)):\n",
    "        print(\"Current optimizer:\", j, available_optimizers[j])\n",
    "\n",
    "        sparse_params=[3, 0.95, available_optimizers[j]]\n",
    "\n",
    "        f = ExampleFunction()\n",
    "\n",
    "        optimization = HPO.SparseGridSearchOptimization(dataset, f, hyperparameterspace, budget=BUDGET, verbosity=VERBOSE, degree=sparse_params[0], adaptivity=sparse_params[1], optimizer=sparse_params[2])\n",
    "\n",
    "        result = optimization.fit()\n",
    "\n",
    "\n",
    "        TESTING = True\n",
    "        results_temp.append(f.eval(result[0]))\n",
    "        results_temp.append(f.eval(result[1]))\n",
    "        TESTING = False\n",
    "\n",
    "    for m in range(len(results_temp)):\n",
    "        RESULTS_datasets[i].append(results_temp[m])\n"
   ]
  },
  {
   "attachments": {},
   "cell_type": "markdown",
   "metadata": {},
   "source": [
    "### Plotting"
   ]
  },
  {
   "cell_type": "code",
   "execution_count": null,
   "metadata": {},
   "outputs": [
    {
     "name": "stdout",
     "output_type": "stream",
     "text": [
      "[[0.71, 0.71, 0.71, 0.29], [0.31333333333333335, 0.6866666666666666, 0.6866666666666666, 0.6866666666666666]]\n",
      "Dataset with id 31\n"
     ]
    },
    {
     "data": {
      "image/png": "[encoded data removed]",
      "text/plain": [
       "<Figure size 640x480 with 1 Axes>"
      ]
     },
     "metadata": {},
     "output_type": "display_data"
    },
    {
     "name": "stdout",
     "output_type": "stream",
     "text": [
      "Dataset with id 1464\n"
     ]
    },
    {
     "data": {
      "image/png": "[encoded data removed]",
      "text/plain": [
       "<Figure size 640x480 with 1 Axes>"
      ]
     },
     "metadata": {},
     "output_type": "display_data"
    }
   ],
   "source": [
    "\n",
    "print(RESULTS_datasets)\n",
    "\n",
    "for i in range(len(ids)):\n",
    "    print(\"Dataset with id\", ids[i])\n",
    "\n",
    "    fig = plt.figure()\n",
    "    ax = fig.add_axes([0,0,1,1])\n",
    "\n",
    "    opts = []\n",
    "    for optimizer_name in available_optimizers:\n",
    "        opts.append(optimizer_name)\n",
    "        opts.append(optimizer_name+ \" (optimized)\")\n",
    "\n",
    "    ax.bar(opts, RESULTS_datasets[i])\n",
    "    plt.show()\n",
    "\n"
   ]
  }
 ],
 "metadata": {
  "kernelspec": {
   "display_name": "Python 3",
   "language": "python",
   "name": "python3"
  },
  "language_info": {
   "codemirror_mode": {
    "name": "ipython",
    "version": 3
   },
   "file_extension": ".py",
   "mimetype": "text/x-python",
   "name": "python",
   "nbconvert_exporter": "python",
   "pygments_lexer": "ipython3",
   "version": "3.10.6"
  },
  "vscode": {
   "interpreter": {
    "hash": "e7370f93d1d0cde622a1f8e1c04877d8463912d04d973331ad4851f04de6915a"
   }
  }
 },
 "nbformat": 4,
 "nbformat_minor": 2
}
